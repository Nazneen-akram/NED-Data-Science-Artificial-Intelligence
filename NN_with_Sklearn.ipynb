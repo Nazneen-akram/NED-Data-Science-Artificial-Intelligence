{
  "cells": [
    {
      "cell_type": "markdown",
      "metadata": {
        "id": "view-in-github",
        "colab_type": "text"
      },
      "source": [
        "<a href=\"https://colab.research.google.com/github/Nazneen-akram/NED-Data-Science-Artificial-Intelligence/blob/main/NN_with_Sklearn.ipynb\" target=\"_parent\"><img src=\"https://colab.research.google.com/assets/colab-badge.svg\" alt=\"Open In Colab\"/></a>"
      ]
    },
    {
      "cell_type": "markdown",
      "metadata": {
        "id": "J0K43iJ1gpC6"
      },
      "source": [
        "<p style=\"text-align:center\">\n",
        "    <a href=\"https://skills.network/?utm_medium=Exinfluencer&utm_source=Exinfluencer&utm_content=000026UJ&utm_term=10006555&utm_id=NA-SkillsNetwork-Channel-SkillsNetworkCoursesIBMDeveloperSkillsNetworkML311Coursera747-2022-01-01\" target=\"_blank\">\n",
        "    <img src=\"https://cf-courses-data.s3.us.cloud-object-storage.appdomain.cloud/assets/logos/SN_web_lightmode.png\" width=\"200\" alt=\"Skills Network Logo\"  />\n",
        "    </a>\n",
        "</p>\n"
      ]
    },
    {
      "cell_type": "markdown",
      "metadata": {
        "run_control": {
          "marked": true
        },
        "id": "IcJ-vk5kgpC9"
      },
      "source": [
        "# **Neural networks with SKlearn**\n"
      ]
    },
    {
      "cell_type": "markdown",
      "metadata": {
        "tags": [],
        "id": "UySXdHRqgpC-"
      },
      "source": [
        "Estimated time needed: **30** minutes\n",
        "\n",
        "In this lab, we will be implementing neural networks for a real-world task (ditgit recognition) using the **Multi-layer Perceptron (MLP)** classifier from scikit-learn.\n",
        "\n"
      ]
    },
    {
      "cell_type": "markdown",
      "metadata": {
        "tags": [],
        "id": "PEiZy1ERgpC-"
      },
      "source": [
        "## Table of Contents\n",
        "\n",
        "<ol>\n",
        "    <li><a href=\"https://#Objectives\">Objectives</a></li>\n",
        "    <li>\n",
        "        <a href=\"https://#Setup\">Setup</a>\n",
        "        <ol>\n",
        "            <li><a href=\"#Installing-Required-Libraries\">Installing Required Libraries</a></li>\n",
        "            <li><a href=\"#Importing-Required-Libraries\">Importing Required Libraries</a></li>\n",
        "        </ol>       \n",
        "    </li>\n",
        "    <li><a href=\"https://#Background\">Background</a></li>\n",
        "    <li><a href=\"#Example: Digit Recognition with Multi-layer Perceptron\">Example: Digit Recognition with Multi-layer Perceptron</a></li>\n",
        "    \n",
        "</ol>\n",
        "\n"
      ]
    },
    {
      "cell_type": "markdown",
      "metadata": {
        "id": "JC9D8JqrgpC_"
      },
      "source": [
        "## Objectives\n",
        "\n",
        "After completing this lab you will be able to:\n",
        "\n",
        "*   Apply MLP for classification tasks\n",
        "*   Use RandomizedSearchCV to search for an optimal set of model parameters  \n"
      ]
    },
    {
      "cell_type": "markdown",
      "metadata": {
        "id": "Dge1kYOygpC_"
      },
      "source": [
        "## Setup\n"
      ]
    },
    {
      "cell_type": "markdown",
      "metadata": {
        "id": "pBD--nTRgpC_"
      },
      "source": [
        "For this lab, we will be using the following libraries:\n",
        "\n",
        "*   [`numpy`](https://numpy.org/?utm_medium=Exinfluencer&utm_source=Exinfluencer&utm_content=000026UJ&utm_term=10006555&utm_id=NA-SkillsNetwork-Channel-SkillsNetworkCoursesIBMML0187ENSkillsNetwork31430127-2021-01-01) for mathematical operations.\n",
        "*   [`Pillow`](https://pillow.readthedocs.io/en/stable/?utm_medium=Exinfluencer&utm_source=Exinfluencer&utm_content=000026UJ&utm_term=10006555&utm_id=NA-SkillsNetwork-Channel-SkillsNetworkCoursesIBMML0187ENSkillsNetwork31430127-2021-01-01) for image processing functions.\n",
        "*   [`OpenCV`](https://docs.opencv.org/4.x/index.html?utm_medium=Exinfluencer&utm_source=Exinfluencer&utm_content=000026UJ&utm_term=10006555&utm_id=NA-SkillsNetwork-Channel-SkillsNetworkCoursesIBMML0187ENSkillsNetwork31430127-2021-01-01) for other image processing functions.\n",
        "*   [`tensorflow`](https://www.tensorflow.org/?utm_medium=Exinfluencer&utm_source=Exinfluencer&utm_content=000026UJ&utm_term=10006555&utm_id=NA-SkillsNetwork-Channel-SkillsNetworkCoursesIBMML0187ENSkillsNetwork31430127-2021-01-01) for machine learning and neural network related functions.\n",
        "*   [`matplotlib`](https://matplotlib.org/?utm_medium=Exinfluencer&utm_source=Exinfluencer&utm_content=000026UJ&utm_term=10006555&utm_id=NA-SkillsNetwork-Channel-SkillsNetworkCoursesIBMML0187ENSkillsNetwork31430127-2021-01-01) for additional plotting tools.\n"
      ]
    },
    {
      "cell_type": "markdown",
      "metadata": {
        "id": "CY3kS9tCgpC_"
      },
      "source": [
        "### Installing Required Libraries\n",
        "\n",
        "The following required libraries are pre-installed in the Skills Network Labs environment. However, if you run this notebook command in a different Jupyter environment (like Watson Studio or Anaconda), you will need to install these libraries by removing the `#` sign before `!mamba` in the following code cell.\n"
      ]
    },
    {
      "cell_type": "code",
      "execution_count": null,
      "metadata": {
        "id": "02PbG_scgpDA"
      },
      "outputs": [],
      "source": [
        "# All Libraries required for this lab are listed below. The libraries pre-installed on Skills Network Labs are commented.\n",
        "# !mamba install -qy numpy==1.22.3 matplotlib==3.5.1 tensorflow==2.9.0 opencv-python==4.5.5.62\n",
        "\n",
        "# Note: If your environment doesn't support \"!mamba install\", use \"!pip install --user\"\n",
        "\n",
        "# RESTART YOUR KERNEL AFTERWARD AS WELL"
      ]
    },
    {
      "cell_type": "markdown",
      "metadata": {
        "id": "nG4wLW1ggpDB"
      },
      "source": [
        "### Importing Required Libraries\n",
        "\n",
        "*We recommend you import all required libraries in one place (here):*\n"
      ]
    },
    {
      "cell_type": "code",
      "execution_count": 1,
      "metadata": {
        "tags": [],
        "id": "x05QmOmugpDB"
      },
      "outputs": [],
      "source": [
        "import warnings\n",
        "warnings.simplefilter('ignore')\n",
        "\n",
        "import numpy as np\n",
        "import matplotlib.pyplot as plt\n",
        "import pandas as pd\n",
        "import random\n",
        "\n",
        "from sklearn.neural_network import MLPClassifier\n",
        "from sklearn.model_selection import RandomizedSearchCV\n",
        "from sklearn.metrics import accuracy_score, classification_report"
      ]
    },
    {
      "cell_type": "markdown",
      "metadata": {
        "id": "iTHfAXksgpDC"
      },
      "source": [
        "## Background\n"
      ]
    },
    {
      "cell_type": "markdown",
      "metadata": {
        "id": "Fwh3ekUUgpDC"
      },
      "source": [
        "The scikit-learn library is well-known for providing robust and efficient tools for Machine Learning and Statistical Learning such as regression, classification, and clustering. It also contains an interface that allows us to work with neural networks, which is the **Multi-layer Perceptron (MLP)** class.\n",
        "\n",
        "A Multilayer Perceptron (MLP) is a fully connected class of feedforward artificial neural network (ANN). It consists of at least three layers of nodes: an input layer, a hidden layer, and an output layer. Except for the input layer, each layer contains nodes (neurons) that use nonlinear activation functions such as ReLu to learn complex and abstract features in the input.\n",
        "\n",
        "Class **MLPClassifier** utilizes a supervised learning technique called backpropagation for training. Its multiple layers and non-linear activation distinguish a MLP model from a linear model, as it can distinguish data that is not linearly separable.\n",
        "\n",
        "Note that Multilayer perceptrons are sometimes referred to as \"vanilla\" neural networks, especially when they have a single hidden layer.\n",
        "\n",
        "<center><img src=\"https://cf-courses-data.s3.us.cloud-object-storage.appdomain.cloud/IBMDeveloperSkillsNetwork-ML311-Coursera/labs/Module1/L1/Artificial_neural_network.svg\" width=\"50%\"></center>\n",
        "\n",
        "<center>Illustration of One hidden layer MLP</center>\n"
      ]
    },
    {
      "cell_type": "markdown",
      "metadata": {
        "tags": [],
        "id": "_pODZGADgpDD"
      },
      "source": [
        "## Example: Digit Recognition with Multi-layer Perceptron\n",
        "\n",
        "In this example, you will implement a simple neural network using scikit-learn's **MLPClassifier** function. The goal is to correctly identify digits from a dataset of tens of thousands of handwritten images from [kaggle](https://www.kaggle.com/code/cezaryszulc/sklearn-simple-neural-network/notebook?utm_medium=Exinfluencer&utm_source=Exinfluencer&utm_content=000026UJ&utm_term=10006555&utm_id=NA-SkillsNetwork-Channel-SkillsNetworkCoursesIBMDeveloperSkillsNetworkML311Coursera747-2022-01-01).\n",
        "\n",
        "Let's download the digits dataset and display a few images!\n"
      ]
    },
    {
      "cell_type": "code",
      "execution_count": 2,
      "metadata": {
        "tags": [],
        "colab": {
          "base_uri": "https://localhost:8080/"
        },
        "id": "IfHIHEVfgpDD",
        "outputId": "79225c6d-7372-4ff7-8b67-c0306dda7712"
      },
      "outputs": [
        {
          "output_type": "execute_result",
          "data": {
            "text/plain": [
              "Index(['label', 'pixel0', 'pixel1', 'pixel2', 'pixel3', 'pixel4', 'pixel5',\n",
              "       'pixel6', 'pixel7', 'pixel8',\n",
              "       ...\n",
              "       'pixel774', 'pixel775', 'pixel776', 'pixel777', 'pixel778', 'pixel779',\n",
              "       'pixel780', 'pixel781', 'pixel782', 'pixel783'],\n",
              "      dtype='object', length=785)"
            ]
          },
          "metadata": {},
          "execution_count": 2
        }
      ],
      "source": [
        "digits = pd.read_csv(\"https://cf-courses-data.s3.us.cloud-object-storage.appdomain.cloud/IBMDeveloperSkillsNetwork-ML311-Coursera/labs/Module1/L1/data/digits.csv\")\n",
        "\n",
        "labels = digits['label']\n",
        "digits.columns"
      ]
    },
    {
      "cell_type": "code",
      "execution_count": 3,
      "metadata": {
        "tags": [],
        "colab": {
          "base_uri": "https://localhost:8080/"
        },
        "id": "EWWIrGFDgpDD",
        "outputId": "bb7d7b70-f18b-4333-b7ce-e701914316dd"
      },
      "outputs": [
        {
          "output_type": "execute_result",
          "data": {
            "text/plain": [
              "array([[0., 0., 0., ..., 0., 0., 0.],\n",
              "       [0., 0., 0., ..., 0., 0., 0.],\n",
              "       [0., 0., 0., ..., 0., 0., 0.],\n",
              "       ...,\n",
              "       [0., 0., 0., ..., 0., 0., 0.],\n",
              "       [0., 0., 0., ..., 0., 0., 0.],\n",
              "       [0., 0., 0., ..., 0., 0., 0.]])"
            ]
          },
          "metadata": {},
          "execution_count": 3
        }
      ],
      "source": [
        "digits = np.array(digits.drop('label', axis=1)).astype('float')\n",
        "digits"
      ]
    },
    {
      "cell_type": "code",
      "execution_count": 4,
      "metadata": {
        "tags": [],
        "colab": {
          "base_uri": "https://localhost:8080/"
        },
        "id": "ZqRe-RengpDD",
        "outputId": "54e7b08a-1cf0-4d3b-ea79-79c9f87f6791"
      },
      "outputs": [
        {
          "output_type": "execute_result",
          "data": {
            "text/plain": [
              "((42000, 784), (42000,))"
            ]
          },
          "metadata": {},
          "execution_count": 4
        }
      ],
      "source": [
        "digits.shape, labels.shape"
      ]
    },
    {
      "cell_type": "markdown",
      "metadata": {
        "id": "hoMvlYr3gpDE"
      },
      "source": [
        "There are 42,000 digit images and each has 784 pixels, which means we can reshape them into $28\\times28$ images for displaying.\n"
      ]
    },
    {
      "cell_type": "code",
      "execution_count": 6,
      "metadata": {
        "tags": [],
        "colab": {
          "base_uri": "https://localhost:8080/",
          "height": 197
        },
        "id": "GWA7JCJogpDE",
        "outputId": "171d9dac-56a4-4030-b7a8-23602447b411"
      },
      "outputs": [
        {
          "output_type": "display_data",
          "data": {
            "text/plain": [
              "<Figure size 1200x400 with 5 Axes>"
            ],
            "image/png": "[encoded data removed]"
          },
          "metadata": {}
        }
      ],
      "source": [
        "plt.figure(figsize=(12,4))\n",
        "for i in range(5):\n",
        "    plt.subplot(1, 5, i+1)\n",
        "    plt.imshow(random.choice(digits).reshape(28,28))\n",
        "    plt.axis(\"off\")"
      ]
    },
    {
      "cell_type": "markdown",
      "metadata": {
        "id": "qIkP52dngpDE"
      },
      "source": [
        "Let's split the 42,000 images into train and test sets.\n"
      ]
    },
    {
      "cell_type": "code",
      "execution_count": 7,
      "metadata": {
        "tags": [],
        "colab": {
          "base_uri": "https://localhost:8080/"
        },
        "id": "LO-RqSMigpDE",
        "outputId": "18e1d8a2-28a4-4631-94c0-ac6452ecf3b7"
      },
      "outputs": [
        {
          "output_type": "execute_result",
          "data": {
            "text/plain": [
              "((29399, 784), (12601, 784))"
            ]
          },
          "metadata": {},
          "execution_count": 7
        }
      ],
      "source": [
        "split = 0.7, 0.3 # train, test\n",
        "# normalize data\n",
        "digits /= 255.0\n",
        "\n",
        "split_ind = int(len(digits)*split[0])\n",
        "X_train, X_test, y_train, y_test = digits[:split_ind], digits[split_ind:], labels[:split_ind], labels[split_ind:]\n",
        "X_train.shape, X_test.shape"
      ]
    },
    {
      "cell_type": "markdown",
      "metadata": {
        "id": "GxEZaXfEgpDE"
      },
      "source": [
        "With scikit-learn's **MLPClassifier**, we can utilize the GridSearch cross validation method to optimize the following parameters:\n",
        "\n",
        "- **hidden_layer_sizes: _tuple, length = n_layers - 2, default=(100,)_**. The ith element represents the number of neurons in the ith hidden layer.\n",
        "\n",
        "- **alpha: _float, default=0.0001_**. Strength of the L2 regularization term. The L2 regularization term is divided by the sample size when added to the loss.\n",
        "\n",
        "- **max_iter: _int, default=200_**. Maximum number of iterations. The solver iterates until convergence (determined by ‘tol’) or this number of iterations. For stochastic solvers (‘sgd’, ‘adam’), note that this determines the number of epochs (how many times each data point will be used), not the number of gradient steps.\n",
        "\n",
        "- **learning_rate_init: _float, default=0.001_**. The initial learning rate used. It controls the step-size in updating the weights. Only used when solver=’sgd’ or ‘adam’.\n"
      ]
    },
    {
      "cell_type": "markdown",
      "metadata": {
        "id": "5AsgZDTvgpDF"
      },
      "source": [
        "Before we search for an optimal set of parameters, let's start with a vanilla MLPClassifier:\n"
      ]
    },
    {
      "cell_type": "code",
      "execution_count": 8,
      "metadata": {
        "tags": [],
        "colab": {
          "base_uri": "https://localhost:8080/"
        },
        "id": "2-dEVYKqgpDF",
        "outputId": "9b24b196-9fd6-4150-c3e2-7440736c21c1"
      },
      "outputs": [
        {
          "output_type": "stream",
          "name": "stdout",
          "text": [
            "Using MLPClassifier with the default parameter values gives an accuracy of 0.972224426632807\n"
          ]
        }
      ],
      "source": [
        "model = MLPClassifier().fit(X_train, y_train)\n",
        "y_pred = model.predict(X_test)\n",
        "\n",
        "print(f\"Using MLPClassifier with the default parameter values gives an accuracy of {accuracy_score(y_pred, y_test)}\")"
      ]
    },
    {
      "cell_type": "code",
      "execution_count": 9,
      "metadata": {
        "colab": {
          "base_uri": "https://localhost:8080/"
        },
        "id": "DM3nk5v0gpDG",
        "outputId": "532dec87-11d1-4b0c-f5dc-bfad7e817844"
      },
      "outputs": [
        {
          "output_type": "stream",
          "name": "stdout",
          "text": [
            "              precision    recall  f1-score   support\n",
            "\n",
            "           0       0.98      0.98      0.98      1269\n",
            "           1       0.99      0.98      0.98      1427\n",
            "           2       0.97      0.97      0.97      1227\n",
            "           3       0.96      0.97      0.97      1296\n",
            "           4       0.97      0.97      0.97      1184\n",
            "           5       0.96      0.97      0.96      1127\n",
            "           6       0.98      0.98      0.98      1234\n",
            "           7       0.97      0.98      0.97      1314\n",
            "           8       0.98      0.96      0.97      1254\n",
            "           9       0.96      0.96      0.96      1269\n",
            "\n",
            "    accuracy                           0.97     12601\n",
            "   macro avg       0.97      0.97      0.97     12601\n",
            "weighted avg       0.97      0.97      0.97     12601\n",
            "\n"
          ]
        }
      ],
      "source": [
        "print(classification_report(y_pred, y_test))"
      ]
    },
    {
      "cell_type": "markdown",
      "metadata": {
        "id": "iLOgc7l3gpDG"
      },
      "source": [
        "For the cross validation training, we will use the default activation \"relu\" and default solver \"adam\". Using **RandomizedSearchCV** instead of **GridSearchCV** reduces the training time because in contrast to GridSearchCV, not all parameter values are tried out, but rather a fixed number of parameter settings is sampled from the specified distributions. The following figure illustrates the difference between the two:\n",
        "\n",
        "<center><img src=\"https://cf-courses-data.s3.us.cloud-object-storage.appdomain.cloud/IBMDeveloperSkillsNetwork-ML311-Coursera/labs/Module1/L1/data/randomsearch.png\" width=\"65%\"></center>\n",
        "\n",
        "<p style=\"text-align:center\">\n",
        "<a href=\"https://dl.acm.org/doi/pdf/10.5555/2188385.2188395?utm_medium=Exinfluencer&utm_source=Exinfluencer&utm_content=000026UJ&utm_term=10006555&utm_id=NA-SkillsNetwork-Channel-SkillsNetworkCoursesIBMDeveloperSkillsNetworkML311Coursera747-2022-01-01\"> Source: Random Search for Hyper-Parameter Optimization paper</a>\n",
        "</p>\n"
      ]
    },
    {
      "cell_type": "markdown",
      "metadata": {
        "id": "87pHIjLagpDG"
      },
      "source": [
        "As you can see, points in the GridSearch space are evenly distributed; thus projections onto either the important or the unimportant parameter subspace produces the same coverage, which is inefficient as we would want the important parameters to have more coverage in the trials. In contrast, the uneven distribution of points in the RandomSearch space allows the trials to explore many more distinct values in the important parameter space.\n",
        "\n",
        "Since it's hard to know ahead of time which parameter subspaces are more important, performing a parameter search on a strict, even grid would not be ideal or efficient.\n"
      ]
    },
    {
      "cell_type": "markdown",
      "metadata": {
        "id": "EjOsDDwjgpDH"
      },
      "source": [
        "However, despite the fact that we will use a more efficient search method since we are trying out multiple values for mutiple parameters of a neural network , **you should still expect training time to be much longer than training a single model**.\n"
      ]
    },
    {
      "cell_type": "code",
      "execution_count": 10,
      "metadata": {
        "collapsed": true,
        "jupyter": {
          "outputs_hidden": true
        },
        "tags": [],
        "colab": {
          "base_uri": "https://localhost:8080/"
        },
        "id": "l2yzrHUggpDH",
        "outputId": "25bd277f-5b16-4622-bb96-e17a613bbbf0"
      },
      "outputs": [
        {
          "output_type": "stream",
          "name": "stdout",
          "text": [
            "The best parameter values found are:\n",
            "\n",
            "{'max_iter': 800, 'learning_rate_init': 0.001, 'hidden_layer_sizes': 100, 'alpha': 0.1}\n"
          ]
        }
      ],
      "source": [
        "parameters = {'hidden_layer_sizes':[50, 100, 200],\n",
        "              'alpha': [0.001, 0.01, 0.1],\n",
        "              'max_iter': [200, 500, 800],\n",
        "              'learning_rate_init':[0.0001, 0.001, 0.01, 0.1]}\n",
        "\n",
        "model = MLPClassifier()\n",
        "clf = RandomizedSearchCV(estimator=model, param_distributions=parameters, cv=5)\n",
        "clf.fit(X_train[:3000], y_train[:3000]) # reduce the train set size to shorten the training time\n",
        "\n",
        "print(\"The best parameter values found are:\\n\")\n",
        "print(clf.best_params_)\n",
        "\n",
        "# store the best model found in \"bestmodel\"\n",
        "bestmodel = clf.best_estimator_"
      ]
    },
    {
      "cell_type": "markdown",
      "metadata": {
        "id": "VTuQ_ImPgpDI"
      },
      "source": [
        "Now we can use the **bestmodel**, which uses the most optimal set of parameter values found by RandomSearchCV, cross-validated on a subset of the training set, to make predictions for the test set **X_test** and evaluate its performance.\n",
        "\n",
        "You select the best regularization  method using the validation data.\n"
      ]
    },
    {
      "cell_type": "code",
      "execution_count": 11,
      "metadata": {
        "colab": {
          "base_uri": "https://localhost:8080/",
          "height": 662
        },
        "id": "L6aDFiHOgpDI",
        "outputId": "235ec427-d346-4c84-f8d6-4e7927892b96"
      },
      "outputs": [
        {
          "output_type": "stream",
          "name": "stdout",
          "text": [
            "The accuracy score of the best model is 0.9333386239187366\n",
            "\n"
          ]
        },
        {
          "output_type": "display_data",
          "data": {
            "text/plain": [
              "<Figure size 1200x800 with 10 Axes>"
            ],
            "image/png": "[encoded data removed]"
          },
          "metadata": {}
        }
      ],
      "source": [
        "y_pred = bestmodel.predict(X_test)\n",
        "print(f\"The accuracy score of the best model is {accuracy_score(y_test, y_pred)}\\n\")\n",
        "\n",
        "plt.figure(figsize=(12,8))\n",
        "for i in range(10):\n",
        "    plt.subplot(2, 5, i+1)\n",
        "    sample = random.choice(X_test)\n",
        "    plt.imshow(sample.reshape(28,28))\n",
        "    pred = bestmodel.predict(sample.reshape(1,-1))\n",
        "    plt.title(f\"Predicted as {pred}\")\n",
        "    plt.axis(\"off\")\n",
        "\n",
        "plt.tight_layout()"
      ]
    },
    {
      "cell_type": "markdown",
      "metadata": {
        "id": "LwIOq03YgpDI"
      },
      "source": [
        "The accuracy of our model is around 93% and the 10 random samples from the test set are all predicted correctly, which is pretty nice.\n"
      ]
    },
    {
      "cell_type": "markdown",
      "metadata": {
        "id": "dBealoK-gpDI"
      },
      "source": [
        "## Authors\n"
      ]
    },
    {
      "cell_type": "markdown",
      "metadata": {
        "id": "UPZG59ntgpDI"
      },
      "source": [
        "[Roxanne Li](https://www.linkedin.com/in/roxanne-li/?utm_medium=Exinfluencer&utm_source=Exinfluencer&utm_content=000026UJ&utm_term=10006555&utm_id=NA-SkillsNetwork-Channel-SkillsNetworkCoursesIBMDeveloperSkillsNetworkML311Coursera747-2022-01-01) is a Data Science intern at IBM Skills Network, entering level-5 study in the Mathematics & Statistics undergraduate Coop program at McMaster University.\n"
      ]
    },
    {
      "cell_type": "markdown",
      "metadata": {
        "id": "PtZs2A7ggpDJ"
      },
      "source": [
        "## Change Log\n"
      ]
    },
    {
      "cell_type": "markdown",
      "metadata": {
        "id": "v1n0IAI7gpDJ"
      },
      "source": [
        "| Date (YYYY-MM-DD) | Version | Changed By  | Change Description |\n",
        "| ----------------- | ------- | ----------- | ------------------ |\n",
        "| 2022-07-07        | 0.1     | Roxanne Li  | Created Lab       |\n",
        "| 2022-09-06        | 0.1     | Steve Hord  | QA pass edits     |\n"
      ]
    },
    {
      "cell_type": "markdown",
      "metadata": {
        "id": "IZGfeX2TgpDJ"
      },
      "source": [
        "Copyright © 2022 IBM Corporation. All rights reserved.\n"
      ]
    }
  ],
  "metadata": {
    "kernelspec": {
      "display_name": "Python",
      "language": "python",
      "name": "conda-env-python-py"
    },
    "language_info": {
      "codemirror_mode": {
        "name": "ipython",
        "version": 3
      },
      "file_extension": ".py",
      "mimetype": "text/x-python",
      "name": "python",
      "nbconvert_exporter": "python",
      "pygments_lexer": "ipython3",
      "version": "3.7.12"
    },
    "colab": {
      "provenance": [],
      "gpuType": "T4",
      "include_colab_link": true
    },
    "accelerator": "GPU"
  },
  "nbformat": 4,
  "nbformat_minor": 0
}