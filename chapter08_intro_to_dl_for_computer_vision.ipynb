{
  "cells": [
    {
      "cell_type": "markdown",
      "metadata": {
        "id": "view-in-github",
        "colab_type": "text"
      },
      "source": [
        "<a href=\"https://colab.research.google.com/github/Nazneen-akram/NED-Data-Science-Artificial-Intelligence/blob/main/chapter08_intro_to_dl_for_computer_vision.ipynb\" target=\"_parent\"><img src=\"https://colab.research.google.com/assets/colab-badge.svg\" alt=\"Open In Colab\"/></a>"
      ]
    },
    {
      "cell_type": "markdown",
      "metadata": {
        "id": "SIgIWiR0W1Cx"
      },
      "source": [
        "This is a companion notebook for the book [Deep Learning with Python, Second Edition](https://www.manning.com/books/deep-learning-with-python-second-edition?a_aid=keras&a_bid=76564dff). For readability, it only contains runnable code blocks and section titles, and omits everything else in the book: text paragraphs, figures, and pseudocode.\n",
        "\n",
        "**If you want to be able to follow what's going on, I recommend reading the notebook side by side with your copy of the book.**\n",
        "\n",
        "This notebook was generated for TensorFlow 2.6."
      ]
    },
    {
      "cell_type": "markdown",
      "metadata": {
        "id": "zlhOQxLSW1C1"
      },
      "source": [
        "# Introduction to deep learning for computer vision"
      ]
    },
    {
      "cell_type": "markdown",
      "metadata": {
        "id": "M_BwA7eLW1C2"
      },
      "source": [
        "## Introduction to convnets"
      ]
    },
    {
      "cell_type": "markdown",
      "metadata": {
        "id": "y2gPENkhW1C3"
      },
      "source": [
        "**Instantiating a small convnet**"
      ]
    },
    {
      "cell_type": "code",
      "execution_count": 1,
      "metadata": {
        "id": "fVip9qZQW1C4"
      },
      "outputs": [],
      "source": [
        "from tensorflow import keras\n",
        "from tensorflow.keras import layers\n",
        "\n",
        "inputs = keras.Input(shape=(28, 28, 1))\n",
        "\n",
        "x = layers.Conv2D(filters=32, kernel_size=3, activation=\"relu\")(inputs)\n",
        "x = layers.MaxPooling2D(pool_size=2)(x)\n",
        "\n",
        "x = layers.Conv2D(filters=64, kernel_size=3, activation=\"relu\")(x)\n",
        "x = layers.MaxPooling2D(pool_size=2)(x)\n",
        "\n",
        "x = layers.Conv2D(filters=128, kernel_size=3, activation=\"relu\")(x)\n",
        "x = layers.Flatten()(x)\n",
        "\n",
        "outputs = layers.Dense(10, activation=\"softmax\")(x)\n",
        "model = keras.Model(inputs=inputs, outputs=outputs)"
      ]
    },
    {
      "cell_type": "markdown",
      "metadata": {
        "id": "S4kfx_1CW1C6"
      },
      "source": [
        "**Displaying the model's summary**"
      ]
    },
    {
      "cell_type": "code",
      "execution_count": 2,
      "metadata": {
        "colab": {
          "base_uri": "https://localhost:8080/"
        },
        "id": "nSHI9Wo6W1C6",
        "outputId": "baea4c56-a20f-46d2-f5da-0019be418ab6"
      },
      "outputs": [
        {
          "output_type": "stream",
          "name": "stdout",
          "text": [
            "Model: \"model\"\n",
            "_________________________________________________________________\n",
            " Layer (type)                Output Shape              Param #   \n",
            "=================================================================\n",
            " input_1 (InputLayer)        [(None, 28, 28, 1)]       0         \n",
            "                                                                 \n",
            " conv2d (Conv2D)             (None, 26, 26, 32)        320       \n",
            "                                                                 \n",
            " max_pooling2d (MaxPooling2  (None, 13, 13, 32)        0         \n",
            " D)                                                              \n",
            "                                                                 \n",
            " conv2d_1 (Conv2D)           (None, 11, 11, 64)        18496     \n",
            "                                                                 \n",
            " max_pooling2d_1 (MaxPoolin  (None, 5, 5, 64)          0         \n",
            " g2D)                                                            \n",
            "                                                                 \n",
            " conv2d_2 (Conv2D)           (None, 3, 3, 128)         73856     \n",
            "                                                                 \n",
            " flatten (Flatten)           (None, 1152)              0         \n",
            "                                                                 \n",
            " dense (Dense)               (None, 10)                11530     \n",
            "                                                                 \n",
            "=================================================================\n",
            "Total params: 104202 (407.04 KB)\n",
            "Trainable params: 104202 (407.04 KB)\n",
            "Non-trainable params: 0 (0.00 Byte)\n",
            "_________________________________________________________________\n"
          ]
        }
      ],
      "source": [
        "model.summary()"
      ]
    },
    {
      "cell_type": "markdown",
      "metadata": {
        "id": "jbsJQLDVW1C8"
      },
      "source": [
        "**Training the convnet on MNIST images**"
      ]
    },
    {
      "cell_type": "code",
      "execution_count": 3,
      "metadata": {
        "colab": {
          "base_uri": "https://localhost:8080/"
        },
        "id": "4umMwJa5W1C9",
        "outputId": "c2c58246-7666-4030-b703-0e98568d9e8b"
      },
      "outputs": [
        {
          "output_type": "stream",
          "name": "stdout",
          "text": [
            "Downloading data from https://storage.googleapis.com/tensorflow/tf-keras-datasets/mnist.npz\n",
            "11490434/11490434 [==============================] - 0s 0us/step\n"
          ]
        }
      ],
      "source": [
        "from tensorflow.keras.datasets import mnist\n",
        "\n",
        "(train_images, train_labels), (test_images, test_labels) = mnist.load_data()\n",
        "train_images = train_images.reshape((60000, 28, 28, 1))\n",
        "train_images = train_images.astype(\"float32\") / 255\n",
        "test_images = test_images.reshape((10000, 28, 28, 1))\n",
        "test_images = test_images.astype(\"float32\") / 255"
      ]
    },
    {
      "cell_type": "code",
      "execution_count": 4,
      "metadata": {
        "colab": {
          "base_uri": "https://localhost:8080/"
        },
        "id": "Pv4mD8HJW1C9",
        "outputId": "3635152e-5e7b-4fbf-a6d3-bb54bb1b48a9"
      },
      "outputs": [
        {
          "output_type": "stream",
          "name": "stdout",
          "text": [
            "Epoch 1/5\n",
            "938/938 [==============================] - 56s 59ms/step - loss: 0.1619 - accuracy: 0.9502\n",
            "Epoch 2/5\n",
            "938/938 [==============================] - 48s 52ms/step - loss: 0.0460 - accuracy: 0.9860\n",
            "Epoch 3/5\n",
            "938/938 [==============================] - 51s 54ms/step - loss: 0.0306 - accuracy: 0.9904\n",
            "Epoch 4/5\n",
            "938/938 [==============================] - 48s 51ms/step - loss: 0.0229 - accuracy: 0.9929\n",
            "Epoch 5/5\n",
            "938/938 [==============================] - 48s 51ms/step - loss: 0.0175 - accuracy: 0.9949\n",
            "Epoch 1/5\n",
            "938/938 [==============================] - 51s 54ms/step - loss: 0.0141 - accuracy: 0.9954\n",
            "Epoch 2/5\n",
            "938/938 [==============================] - 48s 52ms/step - loss: 0.0112 - accuracy: 0.9967\n",
            "Epoch 3/5\n",
            "938/938 [==============================] - 49s 52ms/step - loss: 0.0085 - accuracy: 0.9974\n",
            "Epoch 4/5\n",
            "938/938 [==============================] - 49s 52ms/step - loss: 0.0073 - accuracy: 0.9980\n",
            "Epoch 5/5\n",
            "938/938 [==============================] - 48s 51ms/step - loss: 0.0060 - accuracy: 0.9981\n",
            "Epoch 1/5\n",
            "938/938 [==============================] - 49s 52ms/step - loss: 0.0047 - accuracy: 0.9987\n",
            "Epoch 2/5\n",
            "938/938 [==============================] - 49s 52ms/step - loss: 0.0037 - accuracy: 0.9988\n",
            "Epoch 3/5\n",
            "938/938 [==============================] - 50s 54ms/step - loss: 0.0027 - accuracy: 0.9993\n",
            "Epoch 4/5\n",
            "938/938 [==============================] - 49s 52ms/step - loss: 0.0022 - accuracy: 0.9993\n",
            "Epoch 5/5\n",
            "938/938 [==============================] - 49s 53ms/step - loss: 0.0020 - accuracy: 0.9994\n",
            "Epoch 1/5\n",
            "938/938 [==============================] - 49s 51ms/step - loss: 0.0025 - accuracy: 0.9992\n",
            "Epoch 2/5\n",
            "938/938 [==============================] - 50s 53ms/step - loss: 0.0013 - accuracy: 0.9996\n",
            "Epoch 3/5\n",
            "938/938 [==============================] - 48s 52ms/step - loss: 9.7340e-04 - accuracy: 0.9997\n",
            "Epoch 4/5\n",
            "938/938 [==============================] - 55s 59ms/step - loss: 0.0012 - accuracy: 0.9995\n",
            "Epoch 5/5\n",
            "938/938 [==============================] - 48s 51ms/step - loss: 0.0011 - accuracy: 0.9996\n",
            "Epoch 1/5\n",
            "938/938 [==============================] - 49s 51ms/step - loss: 6.4809e-04 - accuracy: 0.9998\n",
            "Epoch 2/5\n",
            "938/938 [==============================] - 50s 53ms/step - loss: 9.8429e-05 - accuracy: 0.9999\n",
            "Epoch 3/5\n",
            "938/938 [==============================] - 48s 51ms/step - loss: 2.1792e-05 - accuracy: 1.0000\n",
            "Epoch 4/5\n",
            "938/938 [==============================] - 48s 51ms/step - loss: 5.3360e-06 - accuracy: 1.0000\n",
            "Epoch 5/5\n",
            "938/938 [==============================] - 49s 53ms/step - loss: 9.3777e-07 - accuracy: 1.0000\n",
            "Epoch 1/5\n",
            "938/938 [==============================] - 50s 53ms/step - loss: 7.3049e-07 - accuracy: 1.0000\n",
            "Epoch 2/5\n",
            "938/938 [==============================] - 48s 51ms/step - loss: 6.2201e-07 - accuracy: 1.0000\n",
            "Epoch 3/5\n",
            "938/938 [==============================] - 48s 51ms/step - loss: 5.5689e-07 - accuracy: 1.0000\n",
            "Epoch 4/5\n",
            "938/938 [==============================] - 50s 53ms/step - loss: 5.0737e-07 - accuracy: 1.0000\n",
            "Epoch 5/5\n",
            "938/938 [==============================] - 48s 51ms/step - loss: 4.6576e-07 - accuracy: 1.0000\n",
            "Epoch 1/5\n",
            "938/938 [==============================] - 49s 51ms/step - loss: 4.3327e-07 - accuracy: 1.0000\n",
            "Epoch 2/5\n",
            "938/938 [==============================] - 50s 53ms/step - loss: 4.0629e-07 - accuracy: 1.0000\n",
            "Epoch 3/5\n",
            "938/938 [==============================] - 48s 51ms/step - loss: 3.8294e-07 - accuracy: 1.0000\n",
            "Epoch 4/5\n",
            "938/938 [==============================] - 49s 52ms/step - loss: 3.6385e-07 - accuracy: 1.0000\n",
            "Epoch 5/5\n",
            "938/938 [==============================] - 50s 53ms/step - loss: 3.4541e-07 - accuracy: 1.0000\n",
            "Epoch 1/5\n",
            "938/938 [==============================] - 51s 54ms/step - loss: 3.2914e-07 - accuracy: 1.0000\n",
            "Epoch 2/5\n",
            "938/938 [==============================] - 48s 51ms/step - loss: 3.1490e-07 - accuracy: 1.0000\n",
            "Epoch 3/5\n",
            "938/938 [==============================] - 48s 51ms/step - loss: 3.0228e-07 - accuracy: 1.0000\n",
            "Epoch 4/5\n",
            "938/938 [==============================] - 50s 53ms/step - loss: 2.8877e-07 - accuracy: 1.0000\n",
            "Epoch 5/5\n",
            "938/938 [==============================] - 48s 52ms/step - loss: 2.7948e-07 - accuracy: 1.0000\n",
            "4min 20s ± 6.46 s per loop (mean ± std. dev. of 7 runs, 1 loop each)\n"
          ]
        }
      ],
      "source": [
        "%%timeit\n",
        "\n",
        "model.compile(optimizer=\"rmsprop\",\n",
        "    loss=\"sparse_categorical_crossentropy\",\n",
        "    metrics=[\"accuracy\"])\n",
        "\n",
        "model.fit(train_images, train_labels, epochs=5, batch_size=64)"
      ]
    },
    {
      "cell_type": "markdown",
      "metadata": {
        "id": "IA2YQO3vW1C-"
      },
      "source": [
        "**Evaluating the convnet**"
      ]
    },
    {
      "cell_type": "code",
      "execution_count": 5,
      "metadata": {
        "colab": {
          "base_uri": "https://localhost:8080/"
        },
        "id": "Qxg0OIGUW1C_",
        "outputId": "eebce999-9e4f-4b55-b898-4c1fc1b4c54f"
      },
      "outputs": [
        {
          "output_type": "stream",
          "name": "stdout",
          "text": [
            "313/313 [==============================] - 4s 12ms/step - loss: 0.0561 - accuracy: 0.9930\n",
            "Test accuracy: 0.993\n"
          ]
        }
      ],
      "source": [
        "test_loss, test_acc = model.evaluate(test_images, test_labels)\n",
        "print(f\"Test accuracy: {test_acc:.3f}\")"
      ]
    },
    {
      "cell_type": "markdown",
      "metadata": {
        "id": "_ATn7dH9W1C_"
      },
      "source": [
        "The accuracy of non-convolutional Model"
      ]
    },
    {
      "cell_type": "code",
      "execution_count": 6,
      "metadata": {
        "colab": {
          "base_uri": "https://localhost:8080/"
        },
        "id": "U4LtNuOkW1C_",
        "outputId": "f40f8db5-2f0c-41b3-b255-75e61cbe317a"
      },
      "outputs": [
        {
          "output_type": "stream",
          "name": "stdout",
          "text": [
            "Epoch 1/10\n",
            "375/375 [==============================] - 2s 4ms/step - loss: 0.4550 - accuracy: 0.8749 - val_loss: 0.2506 - val_accuracy: 0.9283\n",
            "Epoch 2/10\n",
            "375/375 [==============================] - 1s 4ms/step - loss: 0.2112 - accuracy: 0.9385 - val_loss: 0.1769 - val_accuracy: 0.9487\n",
            "Epoch 3/10\n",
            "375/375 [==============================] - 1s 4ms/step - loss: 0.1574 - accuracy: 0.9529 - val_loss: 0.1439 - val_accuracy: 0.9593\n",
            "Epoch 4/10\n",
            "375/375 [==============================] - 1s 4ms/step - loss: 0.1270 - accuracy: 0.9625 - val_loss: 0.1325 - val_accuracy: 0.9603\n",
            "Epoch 5/10\n",
            "375/375 [==============================] - 1s 4ms/step - loss: 0.1062 - accuracy: 0.9690 - val_loss: 0.1141 - val_accuracy: 0.9657\n",
            "Epoch 6/10\n",
            "375/375 [==============================] - 2s 4ms/step - loss: 0.0906 - accuracy: 0.9728 - val_loss: 0.1149 - val_accuracy: 0.9655\n",
            "Epoch 7/10\n",
            "375/375 [==============================] - 2s 6ms/step - loss: 0.0790 - accuracy: 0.9765 - val_loss: 0.1096 - val_accuracy: 0.9695\n",
            "Epoch 8/10\n",
            "375/375 [==============================] - 2s 5ms/step - loss: 0.0692 - accuracy: 0.9794 - val_loss: 0.1100 - val_accuracy: 0.9682\n",
            "Epoch 9/10\n",
            "375/375 [==============================] - 1s 3ms/step - loss: 0.0620 - accuracy: 0.9815 - val_loss: 0.1038 - val_accuracy: 0.9703\n",
            "Epoch 10/10\n",
            "375/375 [==============================] - 1s 4ms/step - loss: 0.0553 - accuracy: 0.9836 - val_loss: 0.1000 - val_accuracy: 0.9714\n",
            "Epoch 1/10\n",
            "375/375 [==============================] - 2s 4ms/step - loss: 0.4433 - accuracy: 0.8793 - val_loss: 0.2424 - val_accuracy: 0.9293\n",
            "Epoch 2/10\n",
            "375/375 [==============================] - 1s 4ms/step - loss: 0.2060 - accuracy: 0.9403 - val_loss: 0.1796 - val_accuracy: 0.9487\n",
            "Epoch 3/10\n",
            "375/375 [==============================] - 1s 3ms/step - loss: 0.1543 - accuracy: 0.9547 - val_loss: 0.1467 - val_accuracy: 0.9585\n",
            "Epoch 4/10\n",
            "375/375 [==============================] - 1s 3ms/step - loss: 0.1242 - accuracy: 0.9638 - val_loss: 0.1314 - val_accuracy: 0.9606\n",
            "Epoch 5/10\n",
            "375/375 [==============================] - 2s 5ms/step - loss: 0.1057 - accuracy: 0.9686 - val_loss: 0.1290 - val_accuracy: 0.9628\n",
            "Epoch 6/10\n",
            "375/375 [==============================] - 2s 5ms/step - loss: 0.0900 - accuracy: 0.9738 - val_loss: 0.1188 - val_accuracy: 0.9666\n",
            "Epoch 7/10\n",
            "375/375 [==============================] - 2s 5ms/step - loss: 0.0790 - accuracy: 0.9768 - val_loss: 0.1094 - val_accuracy: 0.9688\n",
            "Epoch 8/10\n",
            "375/375 [==============================] - 2s 4ms/step - loss: 0.0701 - accuracy: 0.9791 - val_loss: 0.1039 - val_accuracy: 0.9703\n",
            "Epoch 9/10\n",
            "375/375 [==============================] - 1s 3ms/step - loss: 0.0629 - accuracy: 0.9820 - val_loss: 0.1107 - val_accuracy: 0.9674\n",
            "Epoch 10/10\n",
            "375/375 [==============================] - 1s 4ms/step - loss: 0.0562 - accuracy: 0.9839 - val_loss: 0.1068 - val_accuracy: 0.9689\n",
            "Epoch 1/10\n",
            "375/375 [==============================] - 2s 4ms/step - loss: 0.4463 - accuracy: 0.8768 - val_loss: 0.2230 - val_accuracy: 0.9354\n",
            "Epoch 2/10\n",
            "375/375 [==============================] - 1s 4ms/step - loss: 0.1995 - accuracy: 0.9418 - val_loss: 0.1752 - val_accuracy: 0.9489\n",
            "Epoch 3/10\n",
            "375/375 [==============================] - 1s 4ms/step - loss: 0.1532 - accuracy: 0.9549 - val_loss: 0.1597 - val_accuracy: 0.9546\n",
            "Epoch 4/10\n",
            "375/375 [==============================] - 2s 6ms/step - loss: 0.1238 - accuracy: 0.9632 - val_loss: 0.1276 - val_accuracy: 0.9631\n",
            "Epoch 5/10\n",
            "375/375 [==============================] - 2s 5ms/step - loss: 0.1044 - accuracy: 0.9687 - val_loss: 0.1204 - val_accuracy: 0.9653\n",
            "Epoch 6/10\n",
            "375/375 [==============================] - 1s 4ms/step - loss: 0.0900 - accuracy: 0.9731 - val_loss: 0.1136 - val_accuracy: 0.9664\n",
            "Epoch 7/10\n",
            "375/375 [==============================] - 1s 4ms/step - loss: 0.0792 - accuracy: 0.9766 - val_loss: 0.1074 - val_accuracy: 0.9682\n",
            "Epoch 8/10\n",
            "375/375 [==============================] - 1s 4ms/step - loss: 0.0704 - accuracy: 0.9794 - val_loss: 0.1065 - val_accuracy: 0.9684\n",
            "Epoch 9/10\n",
            "375/375 [==============================] - 1s 4ms/step - loss: 0.0619 - accuracy: 0.9820 - val_loss: 0.1089 - val_accuracy: 0.9698\n",
            "Epoch 10/10\n",
            "375/375 [==============================] - 1s 4ms/step - loss: 0.0561 - accuracy: 0.9831 - val_loss: 0.1199 - val_accuracy: 0.9658\n",
            "Epoch 1/10\n",
            "375/375 [==============================] - 2s 4ms/step - loss: 0.4379 - accuracy: 0.8782 - val_loss: 0.2529 - val_accuracy: 0.9249\n",
            "Epoch 2/10\n",
            "375/375 [==============================] - 2s 5ms/step - loss: 0.2076 - accuracy: 0.9393 - val_loss: 0.1845 - val_accuracy: 0.9477\n",
            "Epoch 3/10\n",
            "375/375 [==============================] - 2s 5ms/step - loss: 0.1609 - accuracy: 0.9526 - val_loss: 0.1541 - val_accuracy: 0.9557\n",
            "Epoch 4/10\n",
            "375/375 [==============================] - 2s 4ms/step - loss: 0.1326 - accuracy: 0.9614 - val_loss: 0.1538 - val_accuracy: 0.9547\n",
            "Epoch 5/10\n",
            "375/375 [==============================] - 1s 4ms/step - loss: 0.1132 - accuracy: 0.9665 - val_loss: 0.1326 - val_accuracy: 0.9626\n",
            "Epoch 6/10\n",
            "375/375 [==============================] - 1s 3ms/step - loss: 0.0969 - accuracy: 0.9716 - val_loss: 0.1156 - val_accuracy: 0.9657\n",
            "Epoch 7/10\n",
            "375/375 [==============================] - 1s 4ms/step - loss: 0.0850 - accuracy: 0.9752 - val_loss: 0.1158 - val_accuracy: 0.9674\n",
            "Epoch 8/10\n",
            "375/375 [==============================] - 1s 4ms/step - loss: 0.0745 - accuracy: 0.9771 - val_loss: 0.1130 - val_accuracy: 0.9683\n",
            "Epoch 9/10\n",
            "375/375 [==============================] - 2s 4ms/step - loss: 0.0670 - accuracy: 0.9802 - val_loss: 0.1071 - val_accuracy: 0.9703\n",
            "Epoch 10/10\n",
            "375/375 [==============================] - 1s 4ms/step - loss: 0.0595 - accuracy: 0.9822 - val_loss: 0.1127 - val_accuracy: 0.9679\n",
            "Epoch 1/10\n",
            "375/375 [==============================] - 3s 6ms/step - loss: 0.4332 - accuracy: 0.8833 - val_loss: 0.2315 - val_accuracy: 0.9364\n",
            "Epoch 2/10\n",
            "375/375 [==============================] - 2s 5ms/step - loss: 0.2116 - accuracy: 0.9376 - val_loss: 0.1911 - val_accuracy: 0.9428\n",
            "Epoch 3/10\n",
            "375/375 [==============================] - 1s 4ms/step - loss: 0.1628 - accuracy: 0.9519 - val_loss: 0.1484 - val_accuracy: 0.9582\n",
            "Epoch 4/10\n",
            "375/375 [==============================] - 1s 4ms/step - loss: 0.1312 - accuracy: 0.9617 - val_loss: 0.1451 - val_accuracy: 0.9556\n",
            "Epoch 5/10\n",
            "375/375 [==============================] - 1s 4ms/step - loss: 0.1102 - accuracy: 0.9678 - val_loss: 0.1242 - val_accuracy: 0.9650\n",
            "Epoch 6/10\n",
            "375/375 [==============================] - 1s 4ms/step - loss: 0.0955 - accuracy: 0.9718 - val_loss: 0.1185 - val_accuracy: 0.9661\n",
            "Epoch 7/10\n",
            "375/375 [==============================] - 1s 4ms/step - loss: 0.0830 - accuracy: 0.9747 - val_loss: 0.1089 - val_accuracy: 0.9682\n",
            "Epoch 8/10\n",
            "375/375 [==============================] - 1s 4ms/step - loss: 0.0737 - accuracy: 0.9785 - val_loss: 0.1107 - val_accuracy: 0.9684\n",
            "Epoch 9/10\n",
            "375/375 [==============================] - 1s 4ms/step - loss: 0.0647 - accuracy: 0.9815 - val_loss: 0.1123 - val_accuracy: 0.9688\n",
            "Epoch 10/10\n",
            "375/375 [==============================] - 2s 6ms/step - loss: 0.0589 - accuracy: 0.9828 - val_loss: 0.1047 - val_accuracy: 0.9688\n",
            "Epoch 1/10\n",
            "375/375 [==============================] - 2s 5ms/step - loss: 0.4296 - accuracy: 0.8823 - val_loss: 0.2225 - val_accuracy: 0.9370\n",
            "Epoch 2/10\n",
            "375/375 [==============================] - 1s 4ms/step - loss: 0.1983 - accuracy: 0.9426 - val_loss: 0.1595 - val_accuracy: 0.9536\n",
            "Epoch 3/10\n",
            "375/375 [==============================] - 2s 4ms/step - loss: 0.1475 - accuracy: 0.9560 - val_loss: 0.1357 - val_accuracy: 0.9603\n",
            "Epoch 4/10\n",
            "375/375 [==============================] - 1s 4ms/step - loss: 0.1192 - accuracy: 0.9645 - val_loss: 0.1241 - val_accuracy: 0.9631\n",
            "Epoch 5/10\n",
            "375/375 [==============================] - 1s 4ms/step - loss: 0.1014 - accuracy: 0.9700 - val_loss: 0.1173 - val_accuracy: 0.9652\n",
            "Epoch 6/10\n",
            "375/375 [==============================] - 1s 4ms/step - loss: 0.0880 - accuracy: 0.9734 - val_loss: 0.1316 - val_accuracy: 0.9603\n",
            "Epoch 7/10\n",
            "375/375 [==============================] - 1s 4ms/step - loss: 0.0767 - accuracy: 0.9769 - val_loss: 0.1132 - val_accuracy: 0.9683\n",
            "Epoch 8/10\n",
            "375/375 [==============================] - 2s 5ms/step - loss: 0.0680 - accuracy: 0.9802 - val_loss: 0.1077 - val_accuracy: 0.9690\n",
            "Epoch 9/10\n",
            "375/375 [==============================] - 2s 6ms/step - loss: 0.0604 - accuracy: 0.9824 - val_loss: 0.1088 - val_accuracy: 0.9679\n",
            "Epoch 10/10\n",
            "375/375 [==============================] - 1s 4ms/step - loss: 0.0532 - accuracy: 0.9838 - val_loss: 0.1077 - val_accuracy: 0.9679\n",
            "Epoch 1/10\n",
            "375/375 [==============================] - 2s 4ms/step - loss: 0.4526 - accuracy: 0.8740 - val_loss: 0.2290 - val_accuracy: 0.9354\n",
            "Epoch 2/10\n",
            "375/375 [==============================] - 1s 4ms/step - loss: 0.2045 - accuracy: 0.9405 - val_loss: 0.1714 - val_accuracy: 0.9506\n",
            "Epoch 3/10\n",
            "375/375 [==============================] - 1s 4ms/step - loss: 0.1531 - accuracy: 0.9554 - val_loss: 0.1402 - val_accuracy: 0.9585\n",
            "Epoch 4/10\n",
            "375/375 [==============================] - 1s 4ms/step - loss: 0.1243 - accuracy: 0.9633 - val_loss: 0.1289 - val_accuracy: 0.9622\n",
            "Epoch 5/10\n",
            "375/375 [==============================] - 1s 4ms/step - loss: 0.1048 - accuracy: 0.9691 - val_loss: 0.1226 - val_accuracy: 0.9648\n",
            "Epoch 6/10\n",
            "375/375 [==============================] - 1s 4ms/step - loss: 0.0924 - accuracy: 0.9723 - val_loss: 0.1156 - val_accuracy: 0.9667\n",
            "Epoch 7/10\n",
            "375/375 [==============================] - 2s 5ms/step - loss: 0.0804 - accuracy: 0.9765 - val_loss: 0.1138 - val_accuracy: 0.9686\n",
            "Epoch 8/10\n",
            "375/375 [==============================] - 2s 5ms/step - loss: 0.0705 - accuracy: 0.9790 - val_loss: 0.1102 - val_accuracy: 0.9676\n",
            "Epoch 9/10\n",
            "375/375 [==============================] - 1s 4ms/step - loss: 0.0640 - accuracy: 0.9803 - val_loss: 0.1097 - val_accuracy: 0.9700\n",
            "Epoch 10/10\n",
            "375/375 [==============================] - 1s 4ms/step - loss: 0.0567 - accuracy: 0.9831 - val_loss: 0.1095 - val_accuracy: 0.9703\n",
            "Epoch 1/10\n",
            "375/375 [==============================] - 2s 4ms/step - loss: 0.4248 - accuracy: 0.8815 - val_loss: 0.2264 - val_accuracy: 0.9358\n",
            "Epoch 2/10\n",
            "375/375 [==============================] - 1s 4ms/step - loss: 0.2045 - accuracy: 0.9409 - val_loss: 0.1732 - val_accuracy: 0.9519\n",
            "Epoch 3/10\n",
            "375/375 [==============================] - 1s 3ms/step - loss: 0.1537 - accuracy: 0.9546 - val_loss: 0.1488 - val_accuracy: 0.9565\n",
            "Epoch 4/10\n",
            "375/375 [==============================] - 1s 4ms/step - loss: 0.1235 - accuracy: 0.9646 - val_loss: 0.1360 - val_accuracy: 0.9603\n",
            "Epoch 5/10\n",
            "375/375 [==============================] - 2s 4ms/step - loss: 0.1042 - accuracy: 0.9694 - val_loss: 0.1174 - val_accuracy: 0.9650\n",
            "Epoch 6/10\n",
            "375/375 [==============================] - 2s 5ms/step - loss: 0.0893 - accuracy: 0.9731 - val_loss: 0.1061 - val_accuracy: 0.9690\n",
            "Epoch 7/10\n",
            "375/375 [==============================] - 2s 5ms/step - loss: 0.0776 - accuracy: 0.9770 - val_loss: 0.1091 - val_accuracy: 0.9682\n",
            "Epoch 8/10\n",
            "375/375 [==============================] - 1s 4ms/step - loss: 0.0685 - accuracy: 0.9797 - val_loss: 0.1023 - val_accuracy: 0.9692\n",
            "Epoch 9/10\n",
            "375/375 [==============================] - 1s 4ms/step - loss: 0.0608 - accuracy: 0.9826 - val_loss: 0.1100 - val_accuracy: 0.9685\n",
            "Epoch 10/10\n",
            "375/375 [==============================] - 1s 3ms/step - loss: 0.0542 - accuracy: 0.9835 - val_loss: 0.1089 - val_accuracy: 0.9687\n",
            "16.5 s ± 411 ms per loop (mean ± std. dev. of 7 runs, 1 loop each)\n"
          ]
        }
      ],
      "source": [
        "%%timeit\n",
        "\n",
        "tra_images = train_images.reshape(-1,28*28)\n",
        "tst_images = test_images.reshape(-1,28*28)\n",
        "#**************** Functional API Model **************************\n",
        "input_shape = tra_images.shape[1]  # Use the actual shape of your data\n",
        "inputs    = keras.Input(shape=(input_shape,))\n",
        "features1 = layers.Dense(64, activation=\"relu\")(inputs)\n",
        "features2 = layers.Dense(32, activation=\"relu\")(features1)\n",
        "outputs   = layers.Dense(10, activation=\"softmax\")(features2)\n",
        "model_nc   = keras.Model(inputs, outputs)\n",
        "\n",
        "model_nc.compile(optimizer=\"rmsprop\",\n",
        "                loss=\"sparse_categorical_crossentropy\",\n",
        "                metrics=[\"accuracy\"])\n",
        "\n",
        "history_nc = model_nc.fit(\n",
        "    tra_images, train_labels,  # Use the correct data variable names\n",
        "    epochs=10,\n",
        "    batch_size=128,\n",
        "    validation_split=0.2)"
      ]
    },
    {
      "cell_type": "code",
      "execution_count": 7,
      "metadata": {
        "colab": {
          "base_uri": "https://localhost:8080/",
          "height": 176
        },
        "id": "_PYEwiLoW1DA",
        "outputId": "fdbd6957-1772-40a5-b94c-6d928cfedaef"
      },
      "outputs": [
        {
          "output_type": "error",
          "ename": "NameError",
          "evalue": "ignored",
          "traceback": [
            "\u001b[0;31m---------------------------------------------------------------------------\u001b[0m",
            "\u001b[0;31mNameError\u001b[0m                                 Traceback (most recent call last)",
            "\u001b[0;32m<ipython-input-7-a30159238538>\u001b[0m in \u001b[0;36m<cell line: 1>\u001b[0;34m()\u001b[0m\n\u001b[0;32m----> 1\u001b[0;31m \u001b[0mmodel_nc\u001b[0m\u001b[0;34m.\u001b[0m\u001b[0msummary\u001b[0m\u001b[0;34m(\u001b[0m\u001b[0;34m)\u001b[0m\u001b[0;34m\u001b[0m\u001b[0;34m\u001b[0m\u001b[0m\n\u001b[0m",
            "\u001b[0;31mNameError\u001b[0m: name 'model_nc' is not defined"
          ]
        }
      ],
      "source": [
        "model_nc.summary()"
      ]
    },
    {
      "cell_type": "code",
      "execution_count": null,
      "metadata": {
        "id": "yELob_REW1DB"
      },
      "outputs": [],
      "source": [
        "test_loss, test_acc = model_nc.evaluate(tst_images, test_labels)\n",
        "print(f\"Test accuracy: {test_acc:.3f}   .. for non Dense Model\")"
      ]
    },
    {
      "cell_type": "markdown",
      "metadata": {
        "id": "R8iaKnYhW1DB"
      },
      "source": [
        "### The convolution operation"
      ]
    },
    {
      "cell_type": "markdown",
      "metadata": {
        "id": "Klar0xcvW1DB"
      },
      "source": [
        "#### Understanding border effects and padding"
      ]
    },
    {
      "cell_type": "markdown",
      "metadata": {
        "id": "xYoberuvW1DC"
      },
      "source": [
        "#### Understanding convolution strides"
      ]
    },
    {
      "cell_type": "markdown",
      "metadata": {
        "id": "CX5iBDMFW1DC"
      },
      "source": [
        "### The max-pooling operation"
      ]
    },
    {
      "cell_type": "markdown",
      "metadata": {
        "id": "ARSi5ngkW1DC"
      },
      "source": [
        "**An incorrectly structured convnet missing its max-pooling layers**"
      ]
    },
    {
      "cell_type": "code",
      "execution_count": null,
      "metadata": {
        "id": "pwciTINbW1DD"
      },
      "outputs": [],
      "source": [
        "inputs = keras.Input(shape=(28, 28, 1))\n",
        "x = layers.Conv2D(filters=32, kernel_size=3, activation=\"relu\")(inputs)\n",
        "x = layers.Conv2D(filters=64, kernel_size=3, activation=\"relu\")(x)\n",
        "x = layers.Conv2D(filters=128, kernel_size=3, activation=\"relu\")(x)\n",
        "x = layers.Flatten()(x)\n",
        "outputs = layers.Dense(10, activation=\"softmax\")(x)\n",
        "model_no_max_pool = keras.Model(inputs=inputs, outputs=outputs)"
      ]
    },
    {
      "cell_type": "code",
      "execution_count": null,
      "metadata": {
        "id": "VFrCTQn-W1DD"
      },
      "outputs": [],
      "source": [
        "model_no_max_pool.summary()"
      ]
    }
  ],
  "metadata": {
    "colab": {
      "provenance": [],
      "toc_visible": true,
      "include_colab_link": true
    },
    "kernelspec": {
      "display_name": "Python 3",
      "language": "python",
      "name": "python3"
    },
    "language_info": {
      "codemirror_mode": {
        "name": "ipython",
        "version": 3
      },
      "file_extension": ".py",
      "mimetype": "text/x-python",
      "name": "python",
      "nbconvert_exporter": "python",
      "pygments_lexer": "ipython3",
      "version": "3.9.0"
    }
  },
  "nbformat": 4,
  "nbformat_minor": 0
}