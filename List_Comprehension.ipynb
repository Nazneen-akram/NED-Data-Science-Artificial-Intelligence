{
  "nbformat": 4,
  "nbformat_minor": 0,
  "metadata": {
    "colab": {
      "provenance": [],
      "authorship_tag": "ABX9TyN9h5NBMmu5X+bwgMQKdUGL",
      "include_colab_link": true
    },
    "kernelspec": {
      "name": "python3",
      "display_name": "Python 3"
    },
    "language_info": {
      "name": "python"
    }
  },
  "cells": [
    {
      "cell_type": "markdown",
      "metadata": {
        "id": "view-in-github",
        "colab_type": "text"
      },
      "source": [
        "<a href=\"https://colab.research.google.com/github/Nazneen-akram/NED-Data-Science-Artificial-Intelligence/blob/main/List_Comprehension.ipynb\" target=\"_parent\"><img src=\"https://colab.research.google.com/assets/colab-badge.svg\" alt=\"Open In Colab\"/></a>"
      ]
    },
    {
      "cell_type": "markdown",
      "source": [
        "###**1. List Comprehension**\n",
        "### Scenario: You have a list of numbers and you want to create a new list that contains the squares of these numbers."
      ],
      "metadata": {
        "id": "8sfjShyBuGyP"
      }
    },
    {
      "cell_type": "code",
      "source": [
        "numbers = [1, 2, 3, 4, 5]\n",
        "squares = [number**2 for number in numbers]\n",
        "print(f'Squares: {squares}')"
      ],
      "metadata": {
        "colab": {
          "base_uri": "https://localhost:8080/"
        },
        "id": "19hUy3jduH2P",
        "outputId": "2f2c74d7-c462-441f-8009-0d18715d4be9"
      },
      "execution_count": 1,
      "outputs": [
        {
          "output_type": "stream",
          "name": "stdout",
          "text": [
            "Squares: [1, 4, 9, 16, 25]\n"
          ]
        }
      ]
    },
    {
      "cell_type": "markdown",
      "source": [
        "### **2. Dictionary Comprehension**\n",
        "### Scenario: You have a list of words and you want to create a dictionary that maps each word to its length."
      ],
      "metadata": {
        "id": "cU2XgSrkuVX5"
      }
    },
    {
      "cell_type": "code",
      "source": [
        "words = ['Python', 'is', 'awesome']\n",
        "word_lengths = {word: len(word) for word in words}\n",
        "print(f'Word Lengths: {word_lengths}')"
      ],
      "metadata": {
        "colab": {
          "base_uri": "https://localhost:8080/"
        },
        "id": "arYHtYFluRnU",
        "outputId": "e7103f95-2c92-4052-f524-f59614902eed"
      },
      "execution_count": 6,
      "outputs": [
        {
          "output_type": "stream",
          "name": "stdout",
          "text": [
            "Word Lengths: {'Python': 6, 'is': 2, 'awesome': 7}\n"
          ]
        }
      ]
    },
    {
      "cell_type": "markdown",
      "source": [
        "### **3. Set Comprehension**\n",
        "### Scenario: You have a list of numbers and you want to create a set that contains the even numbers."
      ],
      "metadata": {
        "id": "w2Es-ERCyc4k"
      }
    },
    {
      "cell_type": "code",
      "source": [
        "numbers = [1, 2, 2, 3, 4, 4, 5, 6, 6]\n",
        "evens = {number for number in numbers if number % 2 == 0}\n",
        "print(f'Evens: {evens}')"
      ],
      "metadata": {
        "colab": {
          "base_uri": "https://localhost:8080/"
        },
        "id": "qeqjW8YgyJjM",
        "outputId": "92733eb1-f400-428c-82f9-71f1d8fc5f47"
      },
      "execution_count": 17,
      "outputs": [
        {
          "output_type": "stream",
          "name": "stdout",
          "text": [
            "Evens: {2, 4, 6}\n"
          ]
        }
      ]
    },
    {
      "cell_type": "markdown",
      "source": [
        "### **4. Generator Expression**\n",
        "### Scenario: You want to sum the squares of a list of numbers, but you don't want to create a separate list for the squares."
      ],
      "metadata": {
        "id": "EkzBZHWJyvGv"
      }
    },
    {
      "cell_type": "code",
      "source": [
        "numbers = [1, 2, 3, 4, 5]\n",
        "sum_of_squares = sum(number**2 for number in numbers)\n",
        "print(f'Sum of Squares: {numbers} = {sum_of_squares}')"
      ],
      "metadata": {
        "colab": {
          "base_uri": "https://localhost:8080/"
        },
        "id": "eJ7IIE3SysWt",
        "outputId": "29978c9a-df14-4845-ab85-3b8b2f072e68"
      },
      "execution_count": 21,
      "outputs": [
        {
          "output_type": "stream",
          "name": "stdout",
          "text": [
            "Sum of Squares: [1, 2, 3, 4, 5] = 55\n"
          ]
        }
      ]
    },
    {
      "cell_type": "markdown",
      "source": [
        "### **5. Function Annotations**\n",
        "### Scenario: You want to provide some extra information about the parameters and return value of a function."
      ],
      "metadata": {
        "id": "zGtBC2pKzc1W"
      }
    },
    {
      "cell_type": "code",
      "source": [
        "def greet(name: str) -> str:\n",
        "    return f'Hello, {name}!'\n",
        "\n",
        "print(greet('Nazneen'))"
      ],
      "metadata": {
        "colab": {
          "base_uri": "https://localhost:8080/"
        },
        "id": "ZW4ymyx6zgXh",
        "outputId": "9b93ff4b-a854-45c3-e3d2-f5fc9d774958"
      },
      "execution_count": 22,
      "outputs": [
        {
          "output_type": "stream",
          "name": "stdout",
          "text": [
            "Hello, Nazneen!\n"
          ]
        }
      ]
    },
    {
      "cell_type": "markdown",
      "source": [
        "### **6. Type Hints**\n",
        "### Scenario: You want to indicate the expected types of a function's arguments and return value."
      ],
      "metadata": {
        "id": "TUq3HLDXzyBf"
      }
    },
    {
      "cell_type": "code",
      "source": [
        "def add_numbers(x: int, y: int) -> int:\n",
        "    return x + y\n",
        "\n",
        "print(add_numbers(3, 4))"
      ],
      "metadata": {
        "colab": {
          "base_uri": "https://localhost:8080/"
        },
        "id": "wCHQTrdyz1Kf",
        "outputId": "efb59af2-0624-400b-8689-b3ec0eaee020"
      },
      "execution_count": 26,
      "outputs": [
        {
          "output_type": "stream",
          "name": "stdout",
          "text": [
            "7\n"
          ]
        }
      ]
    },
    {
      "cell_type": "markdown",
      "source": [
        "### **7. F-Strings**\n",
        "### Scenario: You want to include the values of some variables in a string."
      ],
      "metadata": {
        "id": "bwfMPDPH0SJH"
      }
    },
    {
      "cell_type": "code",
      "source": [
        "name = 'Nazneen'\n",
        "age = 25\n",
        "print(f'{name} is {age} years old.')"
      ],
      "metadata": {
        "colab": {
          "base_uri": "https://localhost:8080/"
        },
        "id": "URlbnfwM0Xau",
        "outputId": "9ced4608-96cd-4496-d6c5-d84df8d5e47e"
      },
      "execution_count": 27,
      "outputs": [
        {
          "output_type": "stream",
          "name": "stdout",
          "text": [
            "Nazneen is 25 years old.\n"
          ]
        }
      ]
    },
    {
      "cell_type": "markdown",
      "source": [
        "### **8. Walrus Operator**\n",
        "### Scenario: You want to assign a value to a variable and use it in an expression at the same time."
      ],
      "metadata": {
        "id": "SvYsnzY40eX-"
      }
    },
    {
      "cell_type": "code",
      "source": [
        "numbers = [1, 2, 3, 4, 5]\n",
        "if (n := len(numbers)) > 3:\n",
        "    print(f'The list has {n} elements.')"
      ],
      "metadata": {
        "colab": {
          "base_uri": "https://localhost:8080/"
        },
        "id": "yWxJrXDA0ba9",
        "outputId": "1d395fc0-f9ff-4d04-ad9f-c1957cce86e4"
      },
      "execution_count": 28,
      "outputs": [
        {
          "output_type": "stream",
          "name": "stdout",
          "text": [
            "The list has 5 elements.\n"
          ]
        }
      ]
    }
  ]
}