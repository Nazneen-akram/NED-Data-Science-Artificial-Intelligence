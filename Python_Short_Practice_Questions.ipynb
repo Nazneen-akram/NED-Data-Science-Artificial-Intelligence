{
  "nbformat": 4,
  "nbformat_minor": 0,
  "metadata": {
    "colab": {
      "provenance": [],
      "authorship_tag": "ABX9TyOQAXvOHIHX8fRM8zDnOKKy",
      "include_colab_link": true
    },
    "kernelspec": {
      "name": "python3",
      "display_name": "Python 3"
    },
    "language_info": {
      "name": "python"
    }
  },
  "cells": [
    {
      "cell_type": "markdown",
      "metadata": {
        "id": "view-in-github",
        "colab_type": "text"
      },
      "source": [
        "<a href=\"https://colab.research.google.com/github/Nazneen-akram/NED-Data-Science-Artificial-Intelligence/blob/main/Python_Short_Practice_Questions.ipynb\" target=\"_parent\"><img src=\"https://colab.research.google.com/assets/colab-badge.svg\" alt=\"Open In Colab\"/></a>"
      ]
    },
    {
      "cell_type": "markdown",
      "source": [
        "## <font color = \"green\"> Write a Python Program to find numbers between 100 and 400 (both included) where each digit of a number is an even number. the numbers obtained should be printed in a comma-separated sequence.</font>"
      ],
      "metadata": {
        "id": "LTvyvAB_zByi"
      }
    },
    {
      "cell_type": "code",
      "source": [
        "items = []\n",
        "for i in range(100, 401):\n",
        "    s = str(i)\n",
        "    if (int (s[0]) % 2 == 0) and (int (s[1]) % 2 == 0) and (int (s[2]) % 2 == 0):\n",
        "        items.append(s)\n",
        "print(\",\".join(items))"
      ],
      "metadata": {
        "colab": {
          "base_uri": "https://localhost:8080/"
        },
        "id": "7ZLR7g7ZzD6x",
        "outputId": "d21a9c53-94c2-466b-f76b-b795f8ec3ec8"
      },
      "execution_count": 2,
      "outputs": [
        {
          "output_type": "stream",
          "name": "stdout",
          "text": [
            "200,202,204,206,208,220,222,224,226,228,240,242,244,246,248,260,262,264,266,268,280,282,284,286,288,400\n"
          ]
        }
      ]
    },
    {
      "cell_type": "markdown",
      "source": [
        "## <font color=\"green\"> Write a Python Program to Convert Temperatures to and from Celsius, Fahrenheit.</font>\n",
        "\n",
        "## Formula: c = (5/9)*(F-32)\n"
      ],
      "metadata": {
        "id": "deVSOKFj0Z8n"
      }
    },
    {
      "cell_type": "code",
      "source": [
        "temp = input(\"Input the Temperature You Like to Convert? (Ex: 45F, 102C Etc.): \")\n",
        "degree = int(temp[:-1])\n",
        "i_convention = temp[-1]\n",
        "\n",
        "if i_convention.upper() == \"C\":\n",
        "    result = int(round((9 * degree) / 5 + 32))\n",
        "    o_convention = \"Fahrenheit\"\n",
        "elif i_convention.upper() == \"F\":\n",
        "    result = int(round((degree - 32) * 5 / 9))\n",
        "    o_convention = \"Celsius\"\n",
        "else:\n",
        "    print(\"Input Proper Convention.\")\n",
        "    quit()\n",
        "print(\"The Temperature in\", o_convention, \"is\", result, \"Degrees.\")"
      ],
      "metadata": {
        "colab": {
          "base_uri": "https://localhost:8080/"
        },
        "id": "HfKZUP_q0jFH",
        "outputId": "523d05f1-282b-4a12-e44d-b4f8d12f10b5"
      },
      "execution_count": 3,
      "outputs": [
        {
          "output_type": "stream",
          "name": "stdout",
          "text": [
            "Input the Temperature You Like to Convert? (Ex: 45F, 102C Etc.): 100F\n",
            "The Temperature in Celsius is 38 Degrees.\n"
          ]
        }
      ]
    }
  ]
}