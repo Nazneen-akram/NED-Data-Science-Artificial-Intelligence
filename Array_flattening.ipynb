{
  "nbformat": 4,
  "nbformat_minor": 0,
  "metadata": {
    "colab": {
      "provenance": [],
      "authorship_tag": "ABX9TyO1GCLgk/hjdv1iiMQfWt56",
      "include_colab_link": true
    },
    "kernelspec": {
      "name": "python3",
      "display_name": "Python 3"
    },
    "language_info": {
      "name": "python"
    }
  },
  "cells": [
    {
      "cell_type": "markdown",
      "metadata": {
        "id": "view-in-github",
        "colab_type": "text"
      },
      "source": [
        "<a href=\"https://colab.research.google.com/github/Nazneen-akram/NED-Data-Science-Artificial-Intelligence/blob/main/Array_flattening.ipynb\" target=\"_parent\"><img src=\"https://colab.research.google.com/assets/colab-badge.svg\" alt=\"Open In Colab\"/></a>"
      ]
    },
    {
      "cell_type": "markdown",
      "source": [
        "### An **array** is a data structure that stores values of the same data type. In Python, this is the main difference between arrays and lists. While python lists can contain values corresponding to different data types, arrays in python can only contain values corresponding to the same data type.\n",
        "\n",
        "### Now, let’s understand what it means by flattening an array. Flattening an array means converting a multidimensional array into a 1D array."
      ],
      "metadata": {
        "id": "I18kcoA2zz9s"
      }
    },
    {
      "cell_type": "code",
      "execution_count": 1,
      "metadata": {
        "colab": {
          "base_uri": "https://localhost:8080/"
        },
        "id": "y4-zGQdDzxbW",
        "outputId": "970e7e60-c312-49df-8f71-22a2f281226c"
      },
      "outputs": [
        {
          "output_type": "stream",
          "name": "stdout",
          "text": [
            "2D Array:\n",
            "[[1 2 3]\n",
            " [4 5 6]\n",
            " [7 8 9]]\n",
            "\n",
            "Flattened Array:\n",
            "[1 2 3 4 5 6 7 8 9]\n"
          ]
        }
      ],
      "source": [
        "import numpy as np\n",
        "\n",
        "# Create a 2D array\n",
        "array_2D = np.array([[1, 2, 3], [4, 5, 6], [7, 8, 9]])\n",
        "print(\"2D Array:\")\n",
        "print(array_2D)\n",
        "\n",
        "# Flatten the 2D array\n",
        "array_flattened = array_2D.flatten()\n",
        "print(\"\\nFlattened Array:\")\n",
        "print(array_flattened)"
      ]
    },
    {
      "cell_type": "markdown",
      "source": [
        "\n",
        "\n",
        "1.   ## <font color='green'>Create a 3D array of shape (3,3,3) and flatten it.</font>\n",
        "\n"
      ],
      "metadata": {
        "id": "8N72_xGB0HkC"
      }
    },
    {
      "cell_type": "code",
      "source": [
        "# Create a 3D array of shape (3,3,3)\n",
        "array_3D = np.arange(27).reshape(3, 3, 3)\n",
        "print(\"3D Array:\")\n",
        "print(array_3D)\n",
        "\n",
        "# Flatten the 3D array\n",
        "array_flattened = array_3D.flatten()\n",
        "print(\"\\nFlattened Array:\")\n",
        "print(array_flattened)"
      ],
      "metadata": {
        "colab": {
          "base_uri": "https://localhost:8080/"
        },
        "id": "yefc3rbS0DK4",
        "outputId": "bdaff403-b719-4d3f-b2ba-72e0bd1fc2b6"
      },
      "execution_count": 2,
      "outputs": [
        {
          "output_type": "stream",
          "name": "stdout",
          "text": [
            "3D Array:\n",
            "[[[ 0  1  2]\n",
            "  [ 3  4  5]\n",
            "  [ 6  7  8]]\n",
            "\n",
            " [[ 9 10 11]\n",
            "  [12 13 14]\n",
            "  [15 16 17]]\n",
            "\n",
            " [[18 19 20]\n",
            "  [21 22 23]\n",
            "  [24 25 26]]]\n",
            "\n",
            "Flattened Array:\n",
            "[ 0  1  2  3  4  5  6  7  8  9 10 11 12 13 14 15 16 17 18 19 20 21 22 23\n",
            " 24 25 26]\n"
          ]
        }
      ]
    },
    {
      "cell_type": "markdown",
      "source": [
        "\n",
        "\n",
        "2.   ### <font color ='green'>Write a Python program to create an array of 5 integers and display the array items. Access individual element through indexes.\n",
        "\n"
      ],
      "metadata": {
        "id": "T_2qjvjT0mgj"
      }
    },
    {
      "cell_type": "code",
      "source": [
        "#create an array of 5 integers\n",
        "array_int = np.arange(6)\n",
        "print(array_int)\n",
        "\n",
        "#Access individual element through indexes\n",
        "for i in array_int:\n",
        "  print(array_int[i])"
      ],
      "metadata": {
        "colab": {
          "base_uri": "https://localhost:8080/"
        },
        "id": "1n8u5c9v0fcI",
        "outputId": "7990e291-3dda-40da-c1a3-5aea5b926fe1"
      },
      "execution_count": 5,
      "outputs": [
        {
          "output_type": "stream",
          "name": "stdout",
          "text": [
            "[0 1 2 3 4 5]\n",
            "0\n",
            "1\n",
            "2\n",
            "3\n",
            "4\n",
            "5\n"
          ]
        }
      ]
    },
    {
      "cell_type": "markdown",
      "source": [
        "\n",
        "\n",
        "3. ###  <font color='green'>Write a Python program to append values to the end of an array."
      ],
      "metadata": {
        "id": "Q2WaJSS21Jws"
      }
    },
    {
      "cell_type": "code",
      "source": [
        "#list of values\n",
        "values = [6,7,8]\n",
        "array_int = np.append(array_int,values,axis=0)\n",
        "print(array_int)"
      ],
      "metadata": {
        "colab": {
          "base_uri": "https://localhost:8080/"
        },
        "id": "P9VFXzhE1RPG",
        "outputId": "97de2c95-34cc-454b-fab3-e7b53deb5296"
      },
      "execution_count": 9,
      "outputs": [
        {
          "output_type": "stream",
          "name": "stdout",
          "text": [
            "[0 1 2 3 4 5 6 7 8]\n"
          ]
        }
      ]
    },
    {
      "cell_type": "markdown",
      "source": [
        "\n",
        "\n",
        "4.  ### <font color='green'> Write a Python program to reverse an array (first element becomes last)"
      ],
      "metadata": {
        "id": "U_7W3tqY24tN"
      }
    },
    {
      "cell_type": "code",
      "source": [
        "-np.sort(-array_int)"
      ],
      "metadata": {
        "colab": {
          "base_uri": "https://localhost:8080/"
        },
        "id": "J6Y8AmU-14yT",
        "outputId": "614620c4-033e-47a1-e802-cfd3febbdc34"
      },
      "execution_count": 13,
      "outputs": [
        {
          "output_type": "execute_result",
          "data": {
            "text/plain": [
              "array([8, 7, 6, 5, 4, 3, 2, 1, 0])"
            ]
          },
          "metadata": {},
          "execution_count": 13
        }
      ]
    },
    {
      "cell_type": "code",
      "source": [],
      "metadata": {
        "id": "28WsOe-24BT6"
      },
      "execution_count": null,
      "outputs": []
    }
  ]
}