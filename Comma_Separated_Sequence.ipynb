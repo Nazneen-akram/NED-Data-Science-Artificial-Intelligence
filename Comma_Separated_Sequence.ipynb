{
  "nbformat": 4,
  "nbformat_minor": 0,
  "metadata": {
    "colab": {
      "provenance": [],
      "authorship_tag": "ABX9TyPZn+1fiiOhMeJwj+b28Oax",
      "include_colab_link": true
    },
    "kernelspec": {
      "name": "python3",
      "display_name": "Python 3"
    },
    "language_info": {
      "name": "python"
    }
  },
  "cells": [
    {
      "cell_type": "markdown",
      "metadata": {
        "id": "view-in-github",
        "colab_type": "text"
      },
      "source": [
        "<a href=\"https://colab.research.google.com/github/Nazneen-akram/NED-Data-Science-Artificial-Intelligence/blob/main/Comma_Separated_Sequence.ipynb\" target=\"_parent\"><img src=\"https://colab.research.google.com/assets/colab-badge.svg\" alt=\"Open In Colab\"/></a>"
      ]
    },
    {
      "cell_type": "markdown",
      "source": [
        "## <font color = \"green\"> Write a Python Program to find numbers between 100 and 400 (both included) where each digit of a number is an even number. the numbers obtained should be printed in a comma-separated sequence.</font>"
      ],
      "metadata": {
        "id": "LTvyvAB_zByi"
      }
    },
    {
      "cell_type": "code",
      "source": [
        "items = []\n",
        "for i in range(100, 401):\n",
        "    s = str(i)\n",
        "    if (int (s[0]) % 2 == 0) and (int (s[1]) % 2 == 0) and (int (s[2]) % 2 == 0):\n",
        "        items.append(s)\n",
        "print(\",\".join(items))"
      ],
      "metadata": {
        "colab": {
          "base_uri": "https://localhost:8080/"
        },
        "id": "7ZLR7g7ZzD6x",
        "outputId": "d21a9c53-94c2-466b-f76b-b795f8ec3ec8"
      },
      "execution_count": 2,
      "outputs": [
        {
          "output_type": "stream",
          "name": "stdout",
          "text": [
            "200,202,204,206,208,220,222,224,226,228,240,242,244,246,248,260,262,264,266,268,280,282,284,286,288,400\n"
          ]
        }
      ]
    },
    {
      "cell_type": "code",
      "source": [],
      "metadata": {
        "id": "OfH6kutgzLeh"
      },
      "execution_count": null,
      "outputs": []
    }
  ]
}