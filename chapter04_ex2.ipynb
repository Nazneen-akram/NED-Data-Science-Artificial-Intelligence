{
  "cells": [
    {
      "cell_type": "markdown",
      "metadata": {
        "id": "view-in-github",
        "colab_type": "text"
      },
      "source": [
        "<a href=\"https://colab.research.google.com/github/Nazneen-akram/NED-Data-Science-Artificial-Intelligence/blob/main/chapter04_ex2.ipynb\" target=\"_parent\"><img src=\"https://colab.research.google.com/assets/colab-badge.svg\" alt=\"Open In Colab\"/></a>"
      ]
    },
    {
      "cell_type": "markdown",
      "metadata": {
        "id": "zVNkryAqbxtb"
      },
      "source": [
        "This is a companion notebook for the book [Deep Learning with Python, Second Edition](https://www.manning.com/books/deep-learning-with-python-second-edition?a_aid=keras&a_bid=76564dff). For readability, it only contains runnable code blocks and section titles, and omits everything else in the book: text paragraphs, figures, and pseudocode.\n",
        "\n",
        "**If you want to be able to follow what's going on, I recommend reading the notebook side by side with your copy of the book.**\n",
        "\n",
        "This notebook was generated for TensorFlow 2.6."
      ]
    },
    {
      "cell_type": "markdown",
      "metadata": {
        "id": "t-xOCX5Jbxtk"
      },
      "source": [
        "# Getting started with neural networks: Classification and regression"
      ]
    },
    {
      "cell_type": "markdown",
      "metadata": {
        "id": "wuaN3AP7bxtk"
      },
      "source": [
        "## Classifying newswires: A multiclass classification example"
      ]
    },
    {
      "cell_type": "markdown",
      "metadata": {
        "id": "7pvjvZ74bxtl"
      },
      "source": [
        "### The Reuters dataset"
      ]
    },
    {
      "cell_type": "markdown",
      "metadata": {
        "id": "4rHymlRDbxtl"
      },
      "source": [
        "**Loading the Reuters dataset**"
      ]
    },
    {
      "cell_type": "code",
      "execution_count": 1,
      "metadata": {
        "colab": {
          "base_uri": "https://localhost:8080/"
        },
        "id": "ZNffRiZLbxtm",
        "outputId": "84ca8320-4b1f-42cd-da21-dffc3c8a19c0"
      },
      "outputs": [
        {
          "output_type": "stream",
          "name": "stdout",
          "text": [
            "Downloading data from https://storage.googleapis.com/tensorflow/tf-keras-datasets/reuters.npz\n",
            "2110848/2110848 [==============================] - 0s 0us/step\n"
          ]
        }
      ],
      "source": [
        "from tensorflow.keras.datasets import reuters\n",
        "(train_data, train_labels), (test_data, test_labels) = reuters.load_data(\n",
        "    num_words=10000)"
      ]
    },
    {
      "cell_type": "code",
      "execution_count": 2,
      "metadata": {
        "colab": {
          "base_uri": "https://localhost:8080/"
        },
        "id": "vG4UwX7Bbxto",
        "outputId": "7cd820cd-a6f7-4cc6-c2a5-b9b69baa225d"
      },
      "outputs": [
        {
          "output_type": "execute_result",
          "data": {
            "text/plain": [
              "8982"
            ]
          },
          "metadata": {},
          "execution_count": 2
        }
      ],
      "source": [
        "len(train_data)"
      ]
    },
    {
      "cell_type": "code",
      "execution_count": 3,
      "metadata": {
        "colab": {
          "base_uri": "https://localhost:8080/"
        },
        "id": "RpDwh4Z4bxto",
        "outputId": "a61b6bb7-fa6f-4d24-acf2-c63e6eaa9831"
      },
      "outputs": [
        {
          "output_type": "execute_result",
          "data": {
            "text/plain": [
              "2246"
            ]
          },
          "metadata": {},
          "execution_count": 3
        }
      ],
      "source": [
        "len(test_data)"
      ]
    },
    {
      "cell_type": "code",
      "execution_count": 4,
      "metadata": {
        "colab": {
          "base_uri": "https://localhost:8080/"
        },
        "id": "ckXiyzk1bxtp",
        "outputId": "1793d4fc-3727-4504-d9a6-b49b84680789"
      },
      "outputs": [
        {
          "output_type": "execute_result",
          "data": {
            "text/plain": [
              "[1,\n",
              " 245,\n",
              " 273,\n",
              " 207,\n",
              " 156,\n",
              " 53,\n",
              " 74,\n",
              " 160,\n",
              " 26,\n",
              " 14,\n",
              " 46,\n",
              " 296,\n",
              " 26,\n",
              " 39,\n",
              " 74,\n",
              " 2979,\n",
              " 3554,\n",
              " 14,\n",
              " 46,\n",
              " 4689,\n",
              " 4329,\n",
              " 86,\n",
              " 61,\n",
              " 3499,\n",
              " 4795,\n",
              " 14,\n",
              " 61,\n",
              " 451,\n",
              " 4329,\n",
              " 17,\n",
              " 12]"
            ]
          },
          "metadata": {},
          "execution_count": 4
        }
      ],
      "source": [
        "train_data[10]"
      ]
    },
    {
      "cell_type": "markdown",
      "metadata": {
        "id": "InsYSkegbxtp"
      },
      "source": [
        "**Decoding newswires back to text**"
      ]
    },
    {
      "cell_type": "code",
      "execution_count": 5,
      "metadata": {
        "colab": {
          "base_uri": "https://localhost:8080/"
        },
        "id": "yb9RcFMxbxtq",
        "outputId": "adcd5777-934b-49d3-c57c-fc3e1628bd4b"
      },
      "outputs": [
        {
          "output_type": "stream",
          "name": "stdout",
          "text": [
            "Downloading data from https://storage.googleapis.com/tensorflow/tf-keras-datasets/reuters_word_index.json\n",
            "550378/550378 [==============================] - 0s 0us/step\n"
          ]
        }
      ],
      "source": [
        "word_index = reuters.get_word_index()\n",
        "\n",
        "reverse_word_index = dict([(value, key) for (key, value) in word_index.items()])\n",
        "\n",
        "decoded_newswire = \" \".join([reverse_word_index.get(i - 3, \"?\") for i in\n",
        "    train_data[0]])"
      ]
    },
    {
      "cell_type": "code",
      "execution_count": 6,
      "metadata": {
        "colab": {
          "base_uri": "https://localhost:8080/",
          "height": 53
        },
        "id": "83UpJV3rbxtq",
        "outputId": "20ad18da-5b53-40c5-c9dd-de1d3f6a87bd"
      },
      "outputs": [
        {
          "output_type": "execute_result",
          "data": {
            "text/plain": [
              "'? ? ? said as a result of its december acquisition of space co it expects earnings per share in 1987 of 1 15 to 1 30 dlrs per share up from 70 cts in 1986 the company said pretax net should rise to nine to 10 mln dlrs from six mln dlrs in 1986 and rental operation revenues to 19 to 22 mln dlrs from 12 5 mln dlrs it said cash flow per share this year should be 2 50 to three dlrs reuter 3'"
            ],
            "application/vnd.google.colaboratory.intrinsic+json": {
              "type": "string"
            }
          },
          "metadata": {},
          "execution_count": 6
        }
      ],
      "source": [
        "decoded_newswire"
      ]
    },
    {
      "cell_type": "code",
      "execution_count": 7,
      "metadata": {
        "colab": {
          "base_uri": "https://localhost:8080/"
        },
        "id": "lorbESsJbxtr",
        "outputId": "c0b07b4b-a37b-4e4b-a43f-5406ec439bbd"
      },
      "outputs": [
        {
          "output_type": "execute_result",
          "data": {
            "text/plain": [
              "3"
            ]
          },
          "metadata": {},
          "execution_count": 7
        }
      ],
      "source": [
        "train_labels[10]"
      ]
    },
    {
      "cell_type": "markdown",
      "metadata": {
        "id": "dDr49ZLebxtr"
      },
      "source": [
        "### Preparing the data"
      ]
    },
    {
      "cell_type": "markdown",
      "metadata": {
        "id": "r543U84Ebxts"
      },
      "source": [
        "**Encoding the input data**"
      ]
    },
    {
      "cell_type": "code",
      "execution_count": 8,
      "metadata": {
        "id": "BHgVduTGbxts"
      },
      "outputs": [],
      "source": [
        "import numpy as np\n",
        "def vectorize_sequences(sequences, dimension=10000):\n",
        "    results = np.zeros((len(sequences), dimension))\n",
        "    for i, sequence in enumerate(sequences):  #sample axis\n",
        "        for j in sequence:  # sequence axis (all encoded numbers)\n",
        "            results[i, j] = 1.    # e.g. if sample=0, and 1st number in sequence=5, then results[0,5]=1.\n",
        "\n",
        "    return results"
      ]
    },
    {
      "cell_type": "code",
      "execution_count": 9,
      "metadata": {
        "id": "oKZ4znHsbxts"
      },
      "outputs": [],
      "source": [
        "x_train = vectorize_sequences(train_data)\n",
        "x_test = vectorize_sequences(test_data)"
      ]
    },
    {
      "cell_type": "markdown",
      "metadata": {
        "id": "K7lKHj8ubxtt"
      },
      "source": [
        "**Encoding the labels**"
      ]
    },
    {
      "cell_type": "code",
      "execution_count": 10,
      "metadata": {
        "id": "-nv4Ds9sbxtt"
      },
      "outputs": [],
      "source": [
        "def to_one_hot(labels, dimension=46):\n",
        "    results = np.zeros((len(labels), dimension))\n",
        "    for i, label in enumerate(labels):\n",
        "        results[i, label] = 1.\n",
        "    return results\n",
        "\n",
        "y_train = to_one_hot(train_labels)\n",
        "y_test = to_one_hot(test_labels)"
      ]
    },
    {
      "cell_type": "code",
      "execution_count": 11,
      "metadata": {
        "colab": {
          "base_uri": "https://localhost:8080/"
        },
        "id": "qyVAdfoGbxtu",
        "outputId": "ce47a468-4a5c-4977-b701-3a807a0ac5ba"
      },
      "outputs": [
        {
          "output_type": "execute_result",
          "data": {
            "text/plain": [
              "array([0., 0., 0., 1., 0., 0., 0., 0., 0., 0., 0., 0., 0., 0., 0., 0., 0.,\n",
              "       0., 0., 0., 0., 0., 0., 0., 0., 0., 0., 0., 0., 0., 0., 0., 0., 0.,\n",
              "       0., 0., 0., 0., 0., 0., 0., 0., 0., 0., 0., 0.])"
            ]
          },
          "metadata": {},
          "execution_count": 11
        }
      ],
      "source": [
        "y_train[0]"
      ]
    },
    {
      "cell_type": "markdown",
      "metadata": {
        "id": "Eg9sP45ebxtu"
      },
      "source": [
        "builtin method for 0ne-hot encoding"
      ]
    },
    {
      "cell_type": "code",
      "execution_count": 12,
      "metadata": {
        "id": "WuWWhPqzbxtv"
      },
      "outputs": [],
      "source": [
        "from tensorflow.keras.utils import to_categorical\n",
        "\n",
        "y_train = to_categorical(train_labels)\n",
        "y_test = to_categorical(test_labels)"
      ]
    },
    {
      "cell_type": "code",
      "execution_count": 13,
      "metadata": {
        "colab": {
          "base_uri": "https://localhost:8080/"
        },
        "id": "x-GRxbkTbxtv",
        "outputId": "3f9edd48-04c3-474c-9b7a-bd90fe6bad39"
      },
      "outputs": [
        {
          "output_type": "execute_result",
          "data": {
            "text/plain": [
              "array([0., 0., 0., 1., 0., 0., 0., 0., 0., 0., 0., 0., 0., 0., 0., 0., 0.,\n",
              "       0., 0., 0., 0., 0., 0., 0., 0., 0., 0., 0., 0., 0., 0., 0., 0., 0.,\n",
              "       0., 0., 0., 0., 0., 0., 0., 0., 0., 0., 0., 0.], dtype=float32)"
            ]
          },
          "metadata": {},
          "execution_count": 13
        }
      ],
      "source": [
        "y_train[0]"
      ]
    },
    {
      "cell_type": "markdown",
      "metadata": {
        "id": "SADMPVqobxtw"
      },
      "source": [
        "### Building your model"
      ]
    },
    {
      "cell_type": "markdown",
      "metadata": {
        "id": "u6226uRgbxtw"
      },
      "source": [
        "**Model definition**"
      ]
    },
    {
      "cell_type": "code",
      "execution_count": 14,
      "metadata": {
        "id": "Yhem-_Ipbxtw"
      },
      "outputs": [],
      "source": [
        "from tensorflow import keras\n",
        "from tensorflow.keras import layers\n",
        "\n",
        "\n",
        "model = keras.Sequential([\n",
        "    layers.Dense(64, activation=\"relu\"),\n",
        "    layers.Dense(64, activation=\"relu\"),\n",
        "    layers.Dense(46, activation=\"softmax\")\n",
        "])"
      ]
    },
    {
      "cell_type": "markdown",
      "metadata": {
        "id": "YJ9kgS6bbxtz"
      },
      "source": [
        "**Compiling the model**"
      ]
    },
    {
      "cell_type": "code",
      "execution_count": 15,
      "metadata": {
        "id": "__Cf-Ml7bxt0"
      },
      "outputs": [],
      "source": [
        "model.compile(optimizer=\"rmsprop\",\n",
        "              loss=\"categorical_crossentropy\",\n",
        "              metrics=[\"accuracy\"])"
      ]
    },
    {
      "cell_type": "markdown",
      "metadata": {
        "id": "Whjz9YBDbxt0"
      },
      "source": [
        "### Validating your approach"
      ]
    },
    {
      "cell_type": "markdown",
      "metadata": {
        "id": "94-uidg0bxt1"
      },
      "source": [
        "**Setting aside a validation set**"
      ]
    },
    {
      "cell_type": "code",
      "execution_count": 16,
      "metadata": {
        "id": "rzuosFwEbxt2"
      },
      "outputs": [],
      "source": [
        "x_val = x_train[:1000]\n",
        "partial_x_train = x_train[1000:]\n",
        "y_val = y_train[:1000]\n",
        "partial_y_train = y_train[1000:]"
      ]
    },
    {
      "cell_type": "markdown",
      "metadata": {
        "id": "ZxsvaY_cbxt5"
      },
      "source": [
        "**Training the model**"
      ]
    },
    {
      "cell_type": "code",
      "execution_count": 17,
      "metadata": {
        "id": "vxtfvpChbxt5"
      },
      "outputs": [],
      "source": [
        "import datetime\n",
        "import tensorflow as tf\n",
        "\n",
        "log_dir = \"logs/fit/\" + datetime.datetime.now().strftime(\"%Y%m%d-%H%M%S\")\n",
        "tensorboard_callback = tf.keras.callbacks.TensorBoard(log_dir=log_dir, histogram_freq=1)\n"
      ]
    },
    {
      "cell_type": "code",
      "execution_count": 18,
      "metadata": {
        "colab": {
          "base_uri": "https://localhost:8080/"
        },
        "id": "MHjt9Q_8bxt6",
        "outputId": "7963d0b3-f14b-45e9-9052-595f791859a7"
      },
      "outputs": [
        {
          "output_type": "stream",
          "name": "stdout",
          "text": [
            "Epoch 1/100\n",
            "16/16 [==============================] - 8s 80ms/step - loss: 2.6048 - accuracy: 0.5115 - val_loss: 1.7163 - val_accuracy: 0.6190\n",
            "Epoch 2/100\n",
            "16/16 [==============================] - 1s 50ms/step - loss: 1.4784 - accuracy: 0.6739 - val_loss: 1.3412 - val_accuracy: 0.7120\n",
            "Epoch 3/100\n",
            "16/16 [==============================] - 1s 46ms/step - loss: 1.1472 - accuracy: 0.7538 - val_loss: 1.1813 - val_accuracy: 0.7200\n",
            "Epoch 4/100\n",
            "16/16 [==============================] - 1s 53ms/step - loss: 0.9425 - accuracy: 0.7968 - val_loss: 1.0642 - val_accuracy: 0.7720\n",
            "Epoch 5/100\n",
            "16/16 [==============================] - 1s 44ms/step - loss: 0.7817 - accuracy: 0.8349 - val_loss: 0.9903 - val_accuracy: 0.7860\n",
            "Epoch 6/100\n",
            "16/16 [==============================] - 1s 74ms/step - loss: 0.6572 - accuracy: 0.8583 - val_loss: 0.9421 - val_accuracy: 0.7920\n",
            "Epoch 7/100\n",
            "16/16 [==============================] - 1s 87ms/step - loss: 0.5496 - accuracy: 0.8800 - val_loss: 0.9018 - val_accuracy: 0.8110\n",
            "Epoch 8/100\n",
            "16/16 [==============================] - 1s 71ms/step - loss: 0.4686 - accuracy: 0.9015 - val_loss: 0.8800 - val_accuracy: 0.8140\n",
            "Epoch 9/100\n",
            "16/16 [==============================] - 1s 46ms/step - loss: 0.3967 - accuracy: 0.9147 - val_loss: 0.8837 - val_accuracy: 0.8180\n",
            "Epoch 10/100\n",
            "16/16 [==============================] - 0s 29ms/step - loss: 0.3436 - accuracy: 0.9261 - val_loss: 0.8643 - val_accuracy: 0.8150\n",
            "Epoch 11/100\n",
            "16/16 [==============================] - 0s 32ms/step - loss: 0.2923 - accuracy: 0.9346 - val_loss: 0.8698 - val_accuracy: 0.8150\n",
            "Epoch 12/100\n",
            "16/16 [==============================] - 0s 30ms/step - loss: 0.2625 - accuracy: 0.9420 - val_loss: 0.8775 - val_accuracy: 0.8200\n",
            "Epoch 13/100\n",
            "16/16 [==============================] - 0s 29ms/step - loss: 0.2308 - accuracy: 0.9449 - val_loss: 0.8710 - val_accuracy: 0.8240\n",
            "Epoch 14/100\n",
            "16/16 [==============================] - 0s 27ms/step - loss: 0.2053 - accuracy: 0.9496 - val_loss: 0.8745 - val_accuracy: 0.8170\n",
            "Epoch 15/100\n",
            "16/16 [==============================] - 0s 26ms/step - loss: 0.1934 - accuracy: 0.9505 - val_loss: 0.8839 - val_accuracy: 0.8170\n",
            "Epoch 16/100\n",
            "16/16 [==============================] - 1s 33ms/step - loss: 0.1694 - accuracy: 0.9529 - val_loss: 0.8835 - val_accuracy: 0.8190\n",
            "Epoch 17/100\n",
            "16/16 [==============================] - 0s 30ms/step - loss: 0.1582 - accuracy: 0.9539 - val_loss: 0.9048 - val_accuracy: 0.8140\n",
            "Epoch 18/100\n",
            "16/16 [==============================] - 0s 29ms/step - loss: 0.1517 - accuracy: 0.9541 - val_loss: 0.9039 - val_accuracy: 0.8140\n",
            "Epoch 19/100\n",
            "16/16 [==============================] - 0s 28ms/step - loss: 0.1445 - accuracy: 0.9554 - val_loss: 0.9252 - val_accuracy: 0.8130\n",
            "Epoch 20/100\n",
            "16/16 [==============================] - 0s 30ms/step - loss: 0.1359 - accuracy: 0.9570 - val_loss: 0.9200 - val_accuracy: 0.8130\n",
            "Epoch 21/100\n",
            "16/16 [==============================] - 0s 28ms/step - loss: 0.1297 - accuracy: 0.9564 - val_loss: 0.9276 - val_accuracy: 0.8140\n",
            "Epoch 22/100\n",
            "16/16 [==============================] - 0s 31ms/step - loss: 0.1279 - accuracy: 0.9564 - val_loss: 0.9243 - val_accuracy: 0.8160\n",
            "Epoch 23/100\n",
            "16/16 [==============================] - 0s 27ms/step - loss: 0.1213 - accuracy: 0.9574 - val_loss: 0.9639 - val_accuracy: 0.8130\n",
            "Epoch 24/100\n",
            "16/16 [==============================] - 0s 28ms/step - loss: 0.1177 - accuracy: 0.9582 - val_loss: 1.0335 - val_accuracy: 0.8030\n",
            "Epoch 25/100\n",
            "16/16 [==============================] - 0s 30ms/step - loss: 0.1208 - accuracy: 0.9573 - val_loss: 0.9479 - val_accuracy: 0.8150\n",
            "Epoch 26/100\n",
            "16/16 [==============================] - 1s 36ms/step - loss: 0.1113 - accuracy: 0.9588 - val_loss: 0.9642 - val_accuracy: 0.8170\n",
            "Epoch 27/100\n",
            "16/16 [==============================] - 1s 40ms/step - loss: 0.1161 - accuracy: 0.9585 - val_loss: 0.9831 - val_accuracy: 0.8130\n",
            "Epoch 28/100\n",
            "16/16 [==============================] - 1s 38ms/step - loss: 0.1072 - accuracy: 0.9580 - val_loss: 1.0241 - val_accuracy: 0.8060\n",
            "Epoch 29/100\n",
            "16/16 [==============================] - 1s 39ms/step - loss: 0.1072 - accuracy: 0.9593 - val_loss: 1.0325 - val_accuracy: 0.8000\n",
            "Epoch 30/100\n",
            "16/16 [==============================] - 1s 41ms/step - loss: 0.1090 - accuracy: 0.9575 - val_loss: 1.0075 - val_accuracy: 0.8100\n",
            "Epoch 31/100\n",
            "16/16 [==============================] - 1s 47ms/step - loss: 0.1043 - accuracy: 0.9585 - val_loss: 1.0068 - val_accuracy: 0.8130\n",
            "Epoch 32/100\n",
            "16/16 [==============================] - 1s 43ms/step - loss: 0.1020 - accuracy: 0.9583 - val_loss: 1.0945 - val_accuracy: 0.8060\n",
            "Epoch 33/100\n",
            "16/16 [==============================] - 1s 39ms/step - loss: 0.1071 - accuracy: 0.9580 - val_loss: 1.0074 - val_accuracy: 0.8110\n",
            "Epoch 34/100\n",
            "16/16 [==============================] - 1s 35ms/step - loss: 0.1042 - accuracy: 0.9594 - val_loss: 1.0194 - val_accuracy: 0.8140\n",
            "Epoch 35/100\n",
            "16/16 [==============================] - 1s 38ms/step - loss: 0.1035 - accuracy: 0.9574 - val_loss: 1.0533 - val_accuracy: 0.8050\n",
            "Epoch 36/100\n",
            "16/16 [==============================] - 1s 40ms/step - loss: 0.0980 - accuracy: 0.9588 - val_loss: 1.0683 - val_accuracy: 0.8180\n",
            "Epoch 37/100\n",
            "16/16 [==============================] - 0s 30ms/step - loss: 0.0961 - accuracy: 0.9608 - val_loss: 1.0859 - val_accuracy: 0.8030\n",
            "Epoch 38/100\n",
            "16/16 [==============================] - 0s 28ms/step - loss: 0.1018 - accuracy: 0.9593 - val_loss: 1.0487 - val_accuracy: 0.8120\n",
            "Epoch 39/100\n",
            "16/16 [==============================] - 0s 29ms/step - loss: 0.0990 - accuracy: 0.9573 - val_loss: 1.0831 - val_accuracy: 0.8060\n",
            "Epoch 40/100\n",
            "16/16 [==============================] - 0s 27ms/step - loss: 0.0955 - accuracy: 0.9608 - val_loss: 1.0327 - val_accuracy: 0.8120\n",
            "Epoch 41/100\n",
            "16/16 [==============================] - 0s 29ms/step - loss: 0.1001 - accuracy: 0.9590 - val_loss: 1.0807 - val_accuracy: 0.7990\n",
            "Epoch 42/100\n",
            "16/16 [==============================] - 0s 26ms/step - loss: 0.0967 - accuracy: 0.9584 - val_loss: 1.0633 - val_accuracy: 0.8080\n",
            "Epoch 43/100\n",
            "16/16 [==============================] - 0s 29ms/step - loss: 0.0957 - accuracy: 0.9580 - val_loss: 1.0265 - val_accuracy: 0.8030\n",
            "Epoch 44/100\n",
            "16/16 [==============================] - 0s 27ms/step - loss: 0.0966 - accuracy: 0.9589 - val_loss: 1.0646 - val_accuracy: 0.8140\n",
            "Epoch 45/100\n",
            "16/16 [==============================] - 0s 28ms/step - loss: 0.0968 - accuracy: 0.9595 - val_loss: 1.0634 - val_accuracy: 0.8100\n",
            "Epoch 46/100\n",
            "16/16 [==============================] - 0s 29ms/step - loss: 0.0927 - accuracy: 0.9588 - val_loss: 1.1162 - val_accuracy: 0.8020\n",
            "Epoch 47/100\n",
            "16/16 [==============================] - 0s 32ms/step - loss: 0.0936 - accuracy: 0.9599 - val_loss: 1.0551 - val_accuracy: 0.8120\n",
            "Epoch 48/100\n",
            "16/16 [==============================] - 0s 29ms/step - loss: 0.0955 - accuracy: 0.9588 - val_loss: 1.0909 - val_accuracy: 0.7980\n",
            "Epoch 49/100\n",
            "16/16 [==============================] - 0s 27ms/step - loss: 0.0926 - accuracy: 0.9590 - val_loss: 1.0555 - val_accuracy: 0.8090\n",
            "Epoch 50/100\n",
            "16/16 [==============================] - 0s 28ms/step - loss: 0.0963 - accuracy: 0.9595 - val_loss: 1.0849 - val_accuracy: 0.8060\n",
            "Epoch 51/100\n",
            "16/16 [==============================] - 0s 28ms/step - loss: 0.0914 - accuracy: 0.9579 - val_loss: 1.0771 - val_accuracy: 0.8050\n",
            "Epoch 52/100\n",
            "16/16 [==============================] - 0s 29ms/step - loss: 0.0947 - accuracy: 0.9585 - val_loss: 1.1100 - val_accuracy: 0.8070\n",
            "Epoch 53/100\n",
            "16/16 [==============================] - 0s 30ms/step - loss: 0.0923 - accuracy: 0.9575 - val_loss: 1.1150 - val_accuracy: 0.7980\n",
            "Epoch 54/100\n",
            "16/16 [==============================] - 0s 29ms/step - loss: 0.0929 - accuracy: 0.9588 - val_loss: 1.0400 - val_accuracy: 0.8130\n",
            "Epoch 55/100\n",
            "16/16 [==============================] - 0s 28ms/step - loss: 0.0937 - accuracy: 0.9575 - val_loss: 1.0819 - val_accuracy: 0.8070\n",
            "Epoch 56/100\n",
            "16/16 [==============================] - 0s 29ms/step - loss: 0.0913 - accuracy: 0.9593 - val_loss: 1.0581 - val_accuracy: 0.8140\n",
            "Epoch 57/100\n",
            "16/16 [==============================] - 0s 27ms/step - loss: 0.0927 - accuracy: 0.9578 - val_loss: 1.0645 - val_accuracy: 0.8140\n",
            "Epoch 58/100\n",
            "16/16 [==============================] - 0s 30ms/step - loss: 0.0901 - accuracy: 0.9604 - val_loss: 1.0702 - val_accuracy: 0.8080\n",
            "Epoch 59/100\n",
            "16/16 [==============================] - 1s 38ms/step - loss: 0.0921 - accuracy: 0.9593 - val_loss: 1.0667 - val_accuracy: 0.8070\n",
            "Epoch 60/100\n",
            "16/16 [==============================] - 1s 40ms/step - loss: 0.0890 - accuracy: 0.9583 - val_loss: 1.0749 - val_accuracy: 0.8110\n",
            "Epoch 61/100\n",
            "16/16 [==============================] - 1s 36ms/step - loss: 0.0880 - accuracy: 0.9597 - val_loss: 1.0763 - val_accuracy: 0.8040\n",
            "Epoch 62/100\n",
            "16/16 [==============================] - 1s 38ms/step - loss: 0.0881 - accuracy: 0.9578 - val_loss: 1.0844 - val_accuracy: 0.8120\n",
            "Epoch 63/100\n",
            "16/16 [==============================] - 1s 35ms/step - loss: 0.0898 - accuracy: 0.9590 - val_loss: 1.0794 - val_accuracy: 0.8100\n",
            "Epoch 64/100\n",
            "16/16 [==============================] - 1s 37ms/step - loss: 0.0889 - accuracy: 0.9605 - val_loss: 1.0467 - val_accuracy: 0.8150\n",
            "Epoch 65/100\n",
            "16/16 [==============================] - 0s 32ms/step - loss: 0.0872 - accuracy: 0.9600 - val_loss: 1.1450 - val_accuracy: 0.7980\n",
            "Epoch 66/100\n",
            "16/16 [==============================] - 0s 30ms/step - loss: 0.0895 - accuracy: 0.9583 - val_loss: 1.1166 - val_accuracy: 0.8030\n",
            "Epoch 67/100\n",
            "16/16 [==============================] - 0s 29ms/step - loss: 0.0836 - accuracy: 0.9602 - val_loss: 1.0716 - val_accuracy: 0.8120\n",
            "Epoch 68/100\n",
            "16/16 [==============================] - 0s 28ms/step - loss: 0.0899 - accuracy: 0.9569 - val_loss: 1.1167 - val_accuracy: 0.8060\n",
            "Epoch 69/100\n",
            "16/16 [==============================] - 0s 28ms/step - loss: 0.0862 - accuracy: 0.9579 - val_loss: 1.0987 - val_accuracy: 0.8000\n",
            "Epoch 70/100\n",
            "16/16 [==============================] - 0s 30ms/step - loss: 0.0879 - accuracy: 0.9599 - val_loss: 1.1144 - val_accuracy: 0.8040\n",
            "Epoch 71/100\n",
            "16/16 [==============================] - 0s 27ms/step - loss: 0.0860 - accuracy: 0.9599 - val_loss: 1.0935 - val_accuracy: 0.8090\n",
            "Epoch 72/100\n",
            "16/16 [==============================] - 0s 29ms/step - loss: 0.0878 - accuracy: 0.9598 - val_loss: 1.1073 - val_accuracy: 0.8050\n",
            "Epoch 73/100\n",
            "16/16 [==============================] - 0s 30ms/step - loss: 0.0831 - accuracy: 0.9572 - val_loss: 1.0677 - val_accuracy: 0.8120\n",
            "Epoch 74/100\n",
            "16/16 [==============================] - 0s 30ms/step - loss: 0.0876 - accuracy: 0.9582 - val_loss: 1.0798 - val_accuracy: 0.8140\n",
            "Epoch 75/100\n",
            "16/16 [==============================] - 0s 28ms/step - loss: 0.0864 - accuracy: 0.9589 - val_loss: 1.0613 - val_accuracy: 0.8120\n",
            "Epoch 76/100\n",
            "16/16 [==============================] - 0s 29ms/step - loss: 0.0848 - accuracy: 0.9585 - val_loss: 1.0539 - val_accuracy: 0.8060\n",
            "Epoch 77/100\n",
            "16/16 [==============================] - 0s 27ms/step - loss: 0.0876 - accuracy: 0.9585 - val_loss: 1.0964 - val_accuracy: 0.8150\n",
            "Epoch 78/100\n",
            "16/16 [==============================] - 0s 28ms/step - loss: 0.0867 - accuracy: 0.9578 - val_loss: 1.0866 - val_accuracy: 0.8060\n",
            "Epoch 79/100\n",
            "16/16 [==============================] - 0s 27ms/step - loss: 0.0844 - accuracy: 0.9587 - val_loss: 1.0882 - val_accuracy: 0.8070\n",
            "Epoch 80/100\n",
            "16/16 [==============================] - 0s 30ms/step - loss: 0.0834 - accuracy: 0.9592 - val_loss: 1.0983 - val_accuracy: 0.8130\n",
            "Epoch 81/100\n",
            "16/16 [==============================] - 0s 27ms/step - loss: 0.0834 - accuracy: 0.9580 - val_loss: 1.1276 - val_accuracy: 0.7980\n",
            "Epoch 82/100\n",
            "16/16 [==============================] - 0s 28ms/step - loss: 0.0795 - accuracy: 0.9614 - val_loss: 1.1440 - val_accuracy: 0.7920\n",
            "Epoch 83/100\n",
            "16/16 [==============================] - 0s 27ms/step - loss: 0.0830 - accuracy: 0.9602 - val_loss: 1.1454 - val_accuracy: 0.8080\n",
            "Epoch 84/100\n",
            "16/16 [==============================] - 0s 28ms/step - loss: 0.0832 - accuracy: 0.9604 - val_loss: 1.1602 - val_accuracy: 0.8000\n",
            "Epoch 85/100\n",
            "16/16 [==============================] - 0s 27ms/step - loss: 0.0837 - accuracy: 0.9598 - val_loss: 1.0813 - val_accuracy: 0.8040\n",
            "Epoch 86/100\n",
            "16/16 [==============================] - 0s 30ms/step - loss: 0.0827 - accuracy: 0.9590 - val_loss: 1.1814 - val_accuracy: 0.7980\n",
            "Epoch 87/100\n",
            "16/16 [==============================] - 1s 33ms/step - loss: 0.0857 - accuracy: 0.9577 - val_loss: 1.0992 - val_accuracy: 0.8070\n",
            "Epoch 88/100\n",
            "16/16 [==============================] - 1s 39ms/step - loss: 0.0817 - accuracy: 0.9607 - val_loss: 1.1328 - val_accuracy: 0.8060\n",
            "Epoch 89/100\n",
            "16/16 [==============================] - 1s 36ms/step - loss: 0.0856 - accuracy: 0.9585 - val_loss: 1.0833 - val_accuracy: 0.8100\n",
            "Epoch 90/100\n",
            "16/16 [==============================] - 1s 38ms/step - loss: 0.0819 - accuracy: 0.9589 - val_loss: 1.1186 - val_accuracy: 0.8010\n",
            "Epoch 91/100\n",
            "16/16 [==============================] - 1s 40ms/step - loss: 0.0846 - accuracy: 0.9587 - val_loss: 1.0784 - val_accuracy: 0.8130\n",
            "Epoch 92/100\n",
            "16/16 [==============================] - 1s 38ms/step - loss: 0.0801 - accuracy: 0.9583 - val_loss: 1.1231 - val_accuracy: 0.8070\n",
            "Epoch 93/100\n",
            "16/16 [==============================] - 1s 34ms/step - loss: 0.0835 - accuracy: 0.9584 - val_loss: 1.1001 - val_accuracy: 0.8150\n",
            "Epoch 94/100\n",
            "16/16 [==============================] - 0s 31ms/step - loss: 0.0802 - accuracy: 0.9605 - val_loss: 1.0563 - val_accuracy: 0.8030\n",
            "Epoch 95/100\n",
            "16/16 [==============================] - 0s 30ms/step - loss: 0.0841 - accuracy: 0.9603 - val_loss: 1.1247 - val_accuracy: 0.8050\n",
            "Epoch 96/100\n",
            "16/16 [==============================] - 0s 29ms/step - loss: 0.0815 - accuracy: 0.9584 - val_loss: 1.0978 - val_accuracy: 0.8080\n",
            "Epoch 97/100\n",
            "16/16 [==============================] - 0s 29ms/step - loss: 0.0820 - accuracy: 0.9605 - val_loss: 1.0935 - val_accuracy: 0.8050\n",
            "Epoch 98/100\n",
            "16/16 [==============================] - 0s 30ms/step - loss: 0.0819 - accuracy: 0.9602 - val_loss: 1.1524 - val_accuracy: 0.8020\n",
            "Epoch 99/100\n",
            "16/16 [==============================] - 0s 28ms/step - loss: 0.0822 - accuracy: 0.9588 - val_loss: 1.0922 - val_accuracy: 0.8070\n",
            "Epoch 100/100\n",
            "16/16 [==============================] - 0s 24ms/step - loss: 0.0815 - accuracy: 0.9580 - val_loss: 1.0652 - val_accuracy: 0.8080\n"
          ]
        }
      ],
      "source": [
        "history = model.fit(partial_x_train,\n",
        "                    partial_y_train,\n",
        "                    epochs=100,\n",
        "                    batch_size=512,\n",
        "                    validation_data=(x_val, y_val),\n",
        "                    callbacks=[tensorboard_callback])"
      ]
    },
    {
      "cell_type": "markdown",
      "metadata": {
        "id": "v1MqoOuLbxt6"
      },
      "source": [
        "**Plotting the training and validation loss**"
      ]
    },
    {
      "cell_type": "code",
      "execution_count": 19,
      "metadata": {
        "colab": {
          "base_uri": "https://localhost:8080/",
          "height": 472
        },
        "id": "_kP4vw2Xbxt7",
        "outputId": "0b9bd52c-22cd-485f-94f3-1caeb6ff6fd8"
      },
      "outputs": [
        {
          "output_type": "display_data",
          "data": {
            "text/plain": [
              "<Figure size 640x480 with 1 Axes>"
            ],
            "image/png": "[encoded data removed]"
          },
          "metadata": {}
        }
      ],
      "source": [
        "import matplotlib.pyplot as plt\n",
        "\n",
        "loss = history.history[\"loss\"]\n",
        "val_loss = history.history[\"val_loss\"]\n",
        "epochs = range(1, len(loss) + 1)\n",
        "plt.plot(epochs, loss, \"bo\", label=\"Training loss\")\n",
        "plt.plot(epochs, val_loss, \"b\", label=\"Validation loss\")\n",
        "plt.title(\"Training and validation loss\")\n",
        "plt.xlabel(\"Epochs\")\n",
        "plt.ylabel(\"Loss\")\n",
        "plt.legend()\n",
        "plt.show()"
      ]
    },
    {
      "cell_type": "markdown",
      "metadata": {
        "id": "XKoRNwwpbxt9"
      },
      "source": [
        "**Plotting the training and validation accuracy**"
      ]
    },
    {
      "cell_type": "code",
      "execution_count": 20,
      "metadata": {
        "colab": {
          "base_uri": "https://localhost:8080/",
          "height": 472
        },
        "id": "7iafAfQFbxt9",
        "outputId": "c4cf259b-3b91-41b7-b3de-cffd387715b4"
      },
      "outputs": [
        {
          "output_type": "display_data",
          "data": {
            "text/plain": [
              "<Figure size 640x480 with 1 Axes>"
            ],
            "image/png": "[encoded data removed]"
          },
          "metadata": {}
        }
      ],
      "source": [
        "plt.clf()\n",
        "acc = history.history[\"accuracy\"]\n",
        "val_acc = history.history[\"val_accuracy\"]\n",
        "plt.plot(epochs, acc, \"bo\", label=\"Training accuracy\")\n",
        "plt.plot(epochs, val_acc, \"b\", label=\"Validation accuracy\")\n",
        "plt.title(\"Training and validation accuracy\")\n",
        "plt.xlabel(\"Epochs\")\n",
        "plt.ylabel(\"Accuracy\")\n",
        "plt.legend()\n",
        "plt.show()"
      ]
    },
    {
      "cell_type": "markdown",
      "metadata": {
        "id": "iqfbXNMtbxt_"
      },
      "source": [
        "**Retraining a model from scratch**"
      ]
    },
    {
      "cell_type": "code",
      "execution_count": 21,
      "metadata": {
        "colab": {
          "base_uri": "https://localhost:8080/"
        },
        "id": "B-36fFj-bxuL",
        "outputId": "f94c16a9-4efc-4409-d5f8-d4b9b9bb5b43"
      },
      "outputs": [
        {
          "output_type": "stream",
          "name": "stdout",
          "text": [
            "Epoch 1/9\n",
            "18/18 [==============================] - 1s 15ms/step - loss: 2.5472 - accuracy: 0.4978\n",
            "Epoch 2/9\n",
            "18/18 [==============================] - 0s 13ms/step - loss: 1.4514 - accuracy: 0.6787\n",
            "Epoch 3/9\n",
            "18/18 [==============================] - 0s 13ms/step - loss: 1.1180 - accuracy: 0.7575\n",
            "Epoch 4/9\n",
            "18/18 [==============================] - 0s 14ms/step - loss: 0.9139 - accuracy: 0.8016\n",
            "Epoch 5/9\n",
            "18/18 [==============================] - 0s 14ms/step - loss: 0.7606 - accuracy: 0.8342\n",
            "Epoch 6/9\n",
            "18/18 [==============================] - 0s 14ms/step - loss: 0.6332 - accuracy: 0.8653\n",
            "Epoch 7/9\n",
            "18/18 [==============================] - 0s 14ms/step - loss: 0.5295 - accuracy: 0.8854\n",
            "Epoch 8/9\n",
            "18/18 [==============================] - 0s 13ms/step - loss: 0.4482 - accuracy: 0.9053\n",
            "Epoch 9/9\n",
            "18/18 [==============================] - 0s 13ms/step - loss: 0.3756 - accuracy: 0.9196\n",
            "71/71 [==============================] - 0s 3ms/step - loss: 0.9222 - accuracy: 0.7858\n"
          ]
        }
      ],
      "source": [
        "model = keras.Sequential([\n",
        "  layers.Dense(64, activation=\"relu\"),\n",
        "  layers.Dense(64, activation=\"relu\"),\n",
        "  layers.Dense(46, activation=\"softmax\")\n",
        "])\n",
        "model.compile(optimizer=\"rmsprop\",\n",
        "              loss=\"categorical_crossentropy\",\n",
        "              metrics=[\"accuracy\"])\n",
        "model.fit(x_train,\n",
        "          y_train,\n",
        "          epochs=9,\n",
        "          batch_size=512)\n",
        "accuracy = model.evaluate(x_test, y_test)"
      ]
    },
    {
      "cell_type": "code",
      "execution_count": 22,
      "metadata": {
        "colab": {
          "base_uri": "https://localhost:8080/"
        },
        "id": "2ANU14gAbxuM",
        "outputId": "c871ff56-03f5-46c5-daa3-2822205df655"
      },
      "outputs": [
        {
          "output_type": "execute_result",
          "data": {
            "text/plain": [
              "[0.9221895933151245, 0.7858415246009827]"
            ]
          },
          "metadata": {},
          "execution_count": 22
        }
      ],
      "source": [
        "accuracy"
      ]
    },
    {
      "cell_type": "code",
      "execution_count": 23,
      "metadata": {
        "colab": {
          "base_uri": "https://localhost:8080/"
        },
        "id": "riu9hqy5bxuM",
        "outputId": "04598ec9-f915-4bd8-d2a9-7e4044212da4"
      },
      "outputs": [
        {
          "output_type": "execute_result",
          "data": {
            "text/plain": [
              "0.18788958147818344"
            ]
          },
          "metadata": {},
          "execution_count": 23
        }
      ],
      "source": [
        "import copy\n",
        "test_labels_copy = copy.copy(test_labels)\n",
        "np.random.shuffle(test_labels_copy)\n",
        "hits_array = np.array(test_labels) == np.array(test_labels_copy)\n",
        "hits_array.mean()"
      ]
    },
    {
      "cell_type": "markdown",
      "metadata": {
        "id": "__arEn9-bxuM"
      },
      "source": [
        "### Generating predictions on new data"
      ]
    },
    {
      "cell_type": "markdown",
      "metadata": {
        "id": "d5HsxrLLbxuN"
      },
      "source": [
        "decoding function"
      ]
    },
    {
      "cell_type": "code",
      "execution_count": 24,
      "metadata": {
        "id": "cgE14_ASbxuN"
      },
      "outputs": [],
      "source": [
        "word_index = reuters.get_word_index()\n",
        "reverse_word_index = dict(\n",
        "    [(value, key) for (key, value) in word_index.items()])\n",
        "\n",
        "def decode_review(encoded_review):\n",
        "    decoding = \" \".join(\n",
        "        [reverse_word_index.get(i - 3, \"?\") for i in encoded_review]\n",
        "        )\n",
        "\n",
        "    return decoding"
      ]
    },
    {
      "cell_type": "code",
      "execution_count": 25,
      "metadata": {
        "colab": {
          "base_uri": "https://localhost:8080/",
          "height": 105
        },
        "id": "3R3xkU5ubxuO",
        "outputId": "ec191789-f547-4da9-c2dd-e48c36109770"
      },
      "outputs": [
        {
          "output_type": "execute_result",
          "data": {
            "text/plain": [
              "\"? philippine sugar production in the 1987 88 crop year ending august has been set at 1 6 mln tonnes up from a provisional 1 3 mln tonnes this year sugar regulatory administration ? chairman ? yulo said yulo told reuters a survey during the current milling season which ends next month showed the 1986 87 estimate would almost certainly be met he said at least 1 2 mln tonnes of the 1987 88 crop would be earmarked for domestic consumption yulo said about 130 000 tonnes would be set aside for the u s sugar quota 150 000 tonnes for strategic reserves and 50 000 tonnes would be sold on the world market he said if the government approved a long standing ? recommendation to manufacture ethanol the project would take up another 150 000 tonnes slightly raising the target the government for its own reasons has been delaying approval of the project but we expect it to come through by july yulo said ethanol could make up five pct of gasoline cutting the oil import bill by about 300 mln pesos yulo said three major philippine ? were ready to start manufacturing ethanol if the project was approved the ethanol project would result in employment for about 100 000 people sharply reducing those thrown out of work by depressed world sugar prices and a ? domestic industry production quotas set for the first time in 1987 88 had been submitted to president corazon aquino i think the president would rather wait ? the new congress ? after the may elections he said but there is really no need for such quotas we are right now producing just slightly over our own consumption level the producers have never enjoyed such high prices yulo said adding sugar was currently selling locally for 320 pesos per ? up from 190 pesos last august yulo said prices were driven up because of speculation following the ? bid to control production we are no longer concerned so much with the world market he said adding producers in the ? region had learned from their ? and diversified into corn and ? farming and ? production he said diversification into products other than ethanol was also possible within the sugar industry the ? long ago ? their ? yulo said they have 300 sugar mills compared with our 41 but they ? many of them and diversified production we want to call this a ? ? instead of the sugar industry he said sugarcane could be fed to pigs and livestock used for ? ? or used in room ? when you cut sugarcane you don't even have to produce sugar he said yulo said the philippines was lobbying for a renewal of the international sugar agreement which expired in 1984 as a major sugar producer we are urging them to write a new agreement which would revive world prices yulo said if there is no agreement world prices will always be depressed particularly because the european community is ? its producers and dumping sugar on the markets he said current world prices holding steady at about 7 60 cents per pound were ? for the philippines where production costs ranged from 12 to 14 cents a pound if the price holds steady for a while at 7 60 cents i expect the level to rise to about 11 cents a pound by the end of this year he said yulo said economists forecast a bullish sugar market by 1990 with world consumption ? production he said sugar markets were holding up despite ? from artificial sweeteners and high fructose corn syrup but we are not happy with the reagan administration he said since ? we have been regular suppliers of sugar to the u s in 1982 when they restored the quota system they cut ? in half without any justification manila was ? watching washington's moves to cut domestic support prices to 12 cents a pound from 18 cents the u s agriculture department last december slashed its 12 month 1987 sugar import quota from the philippines to 143 780 short tons from 231 660 short tons in 1986 yulo said despite next year's increased production target some philippine mills were expected to shut down at least four of the 41 mills were not working during the 1986 87 season he said we expect two or three more to follow suit during the next season reuter 3\""
            ],
            "application/vnd.google.colaboratory.intrinsic+json": {
              "type": "string"
            }
          },
          "metadata": {},
          "execution_count": 25
        }
      ],
      "source": [
        "decode_review(test_data[1])"
      ]
    },
    {
      "cell_type": "code",
      "execution_count": 26,
      "metadata": {
        "colab": {
          "base_uri": "https://localhost:8080/"
        },
        "id": "6CLqCMi2bxuO",
        "outputId": "50739525-434a-4a56-8c05-aa4a8c806378"
      },
      "outputs": [
        {
          "output_type": "execute_result",
          "data": {
            "text/plain": [
              "10"
            ]
          },
          "metadata": {},
          "execution_count": 26
        }
      ],
      "source": [
        "test_labels[1]"
      ]
    },
    {
      "cell_type": "code",
      "execution_count": 27,
      "metadata": {
        "colab": {
          "base_uri": "https://localhost:8080/"
        },
        "id": "PO2nHY--bxuO",
        "outputId": "a882759f-5e4c-4604-fee5-dde38dcf6a66"
      },
      "outputs": [
        {
          "output_type": "stream",
          "name": "stdout",
          "text": [
            "71/71 [==============================] - 0s 2ms/step\n"
          ]
        }
      ],
      "source": [
        "predictions = model.predict(x_test)"
      ]
    },
    {
      "cell_type": "code",
      "execution_count": 28,
      "metadata": {
        "colab": {
          "base_uri": "https://localhost:8080/"
        },
        "id": "713EGvVZbxuP",
        "outputId": "63426551-b763-4444-d5e8-6418da0acbce"
      },
      "outputs": [
        {
          "output_type": "execute_result",
          "data": {
            "text/plain": [
              "(46,)"
            ]
          },
          "metadata": {},
          "execution_count": 28
        }
      ],
      "source": [
        "predictions[0].shape"
      ]
    },
    {
      "cell_type": "code",
      "execution_count": 29,
      "metadata": {
        "colab": {
          "base_uri": "https://localhost:8080/"
        },
        "id": "ayFVdpa-bxuP",
        "outputId": "063fb390-1ad5-41ca-9646-8484ec7f8f99"
      },
      "outputs": [
        {
          "output_type": "execute_result",
          "data": {
            "text/plain": [
              "1.0000001"
            ]
          },
          "metadata": {},
          "execution_count": 29
        }
      ],
      "source": [
        "np.sum(predictions[0])"
      ]
    },
    {
      "cell_type": "code",
      "execution_count": 30,
      "metadata": {
        "colab": {
          "base_uri": "https://localhost:8080/"
        },
        "id": "SRDCtqEHbxuQ",
        "outputId": "bdd209d0-5b08-4d7e-a2aa-38aec9b5d73f"
      },
      "outputs": [
        {
          "output_type": "execute_result",
          "data": {
            "text/plain": [
              "10"
            ]
          },
          "metadata": {},
          "execution_count": 30
        }
      ],
      "source": [
        "np.argmax(predictions[1])"
      ]
    },
    {
      "cell_type": "code",
      "execution_count": 31,
      "metadata": {
        "colab": {
          "base_uri": "https://localhost:8080/"
        },
        "id": "9RtAvU7sbxuQ",
        "outputId": "e70ae0c7-fabe-4bbf-9f01-9cfb7792d22d"
      },
      "outputs": [
        {
          "output_type": "stream",
          "name": "stdout",
          "text": [
            "3, 4 ? the great atlantic and pacific tea co said its three year 345 mln dlr capital program will be be substantially increased to ? growth and expansion plans for ? inc and ? inc over the next two years a and p said the acquisition of ? in august 1986 and ? in december helped us achieve better than expected results in the fourth quarter ended february 28 its net income from continuing operations jumped 52 6 pct to 20 7 mln dlrs or 55 cts a share in the latest quarter as sales increased 48 3 pct to 1 58 billion dlrs a and p gave no details on the expanded capital program but it did say it completed the first year of the program during 1986 a and p is 52 4 pct owned by lt ? ? of west germany reuter 3\n",
            "10, 10 ? philippine sugar production in the 1987 88 crop year ending august has been set at 1 6 mln tonnes up from a provisional 1 3 mln tonnes this year sugar regulatory administration ? chairman ? yulo said yulo told reuters a survey during the current milling season which ends next month showed the 1986 87 estimate would almost certainly be met he said at least 1 2 mln tonnes of the 1987 88 crop would be earmarked for domestic consumption yulo said about 130 000 tonnes would be set aside for the u s sugar quota 150 000 tonnes for strategic reserves and 50 000 tonnes would be sold on the world market he said if the government approved a long standing ? recommendation to manufacture ethanol the project would take up another 150 000 tonnes slightly raising the target the government for its own reasons has been delaying approval of the project but we expect it to come through by july yulo said ethanol could make up five pct of gasoline cutting the oil import bill by about 300 mln pesos yulo said three major philippine ? were ready to start manufacturing ethanol if the project was approved the ethanol project would result in employment for about 100 000 people sharply reducing those thrown out of work by depressed world sugar prices and a ? domestic industry production quotas set for the first time in 1987 88 had been submitted to president corazon aquino i think the president would rather wait ? the new congress ? after the may elections he said but there is really no need for such quotas we are right now producing just slightly over our own consumption level the producers have never enjoyed such high prices yulo said adding sugar was currently selling locally for 320 pesos per ? up from 190 pesos last august yulo said prices were driven up because of speculation following the ? bid to control production we are no longer concerned so much with the world market he said adding producers in the ? region had learned from their ? and diversified into corn and ? farming and ? production he said diversification into products other than ethanol was also possible within the sugar industry the ? long ago ? their ? yulo said they have 300 sugar mills compared with our 41 but they ? many of them and diversified production we want to call this a ? ? instead of the sugar industry he said sugarcane could be fed to pigs and livestock used for ? ? or used in room ? when you cut sugarcane you don't even have to produce sugar he said yulo said the philippines was lobbying for a renewal of the international sugar agreement which expired in 1984 as a major sugar producer we are urging them to write a new agreement which would revive world prices yulo said if there is no agreement world prices will always be depressed particularly because the european community is ? its producers and dumping sugar on the markets he said current world prices holding steady at about 7 60 cents per pound were ? for the philippines where production costs ranged from 12 to 14 cents a pound if the price holds steady for a while at 7 60 cents i expect the level to rise to about 11 cents a pound by the end of this year he said yulo said economists forecast a bullish sugar market by 1990 with world consumption ? production he said sugar markets were holding up despite ? from artificial sweeteners and high fructose corn syrup but we are not happy with the reagan administration he said since ? we have been regular suppliers of sugar to the u s in 1982 when they restored the quota system they cut ? in half without any justification manila was ? watching washington's moves to cut domestic support prices to 12 cents a pound from 18 cents the u s agriculture department last december slashed its 12 month 1987 sugar import quota from the philippines to 143 780 short tons from 231 660 short tons in 1986 yulo said despite next year's increased production target some philippine mills were expected to shut down at least four of the 41 mills were not working during the 1986 87 season he said we expect two or three more to follow suit during the next season reuter 3\n",
            "1, 1 ? the agriculture department's widening of louisiana gulf differentials will affect county posted prices for number two yellow corn in ten states a usda official said all counties in iowa will be affected as will counties which use the gulf to price corn in illinois indiana tennessee kentucky missouri mississippi arkansas alabama and louisiana said ? ? deputy director of commodity operations division for the usda usda last night notified the grain industry that effective immediately all gulf differentials used to price interior corn would be widened on a sliding scale basis of four to eight cts depending on what the differential is usda's action was taken to lower excessively high posted county prices for corn caused by high gulf prices we've been following this louisiana gulf situation for a month and we don't think it's going to get back in line in any nearby time ? said ? said usda will probably narrow back the gulf differentials when and if gulf prices ? if we're off the mark now because we're too high wouldn't we be as much off the mark if we're too low he said while forecasting more adjustments if gulf prices fall ? said no other changes in usda's price system are being planned right now we don't tinker we don't make changes ? and we don't make changes often he said reuter 3\n",
            "4, 16 ? ? ? oil and gas partnership said it completed the sale of interests in two major oil and gas fields to lt energy assets international corp for 21 mln dlrs the company said it sold about one half of its 50 pct interest in the oak hill and north ? fields its two largest producing properties it said it used about 20 mln dlrs of the proceeds to ? principal on its senior secured notes semi annual principal payments on the remaining 40 mln dlrs of notes have been satisfied until december 1988 as a result it said the company said the note agreements were amended to reflect an easing of some financial covenants and an increase of interest to 13 5 pct from 13 0 pct until december 1990 it said the ? exercise price for 1 125 000 warrants was also reduced to 50 cts from 1 50 dlrs the company said energy assets agreed to share the costs of increasing production at the oak hill field reuter 3\n",
            "4, 13 ? strong south ? winds were keeping many vessels trapped in the ice off the finnish and swedish coasts in one of the worst icy periods in the baltic for many years the finnish board of navigation said in finland and sweden up to 50 vessels were reported to be stuck in the ice and even the largest of the ? ? were having difficulties in breaking through to the ? ships ? officials said however icy conditions in the southern baltic at the soviet oil ports of ? and ? had eased they said weather officials in neighbouring sweden said the icy conditions in the baltic were the worst for 30 years with ships fighting a losing battle to keep moving in the coastal stretches of the gulf of ? which ? finland and sweden the ice is up to one ? thick with ? and ? packing it into almost ? walls three metres high swedish ? officials said weather forecasts say winds may ease during the weekend but a further drop in temperature could bring shipping to a standstill the officials said reuter 3\n",
            "3, 3 ? shr 12 cts vs 15 cts net 282 000 vs 360 000 revs 5 261 000 vs 5 348 000 avg shrs 2 336 000 vs 2 335 000 year shr 91 cts vs 1 04 dlrs net 2 149 000 vs 2 075 000 revs 28 2 mln vs 28 3 mln avg shrs 2 356 000 vs 2 001 000 note 1986 quarter net includes 72 000 dlr charge from ? of investment tax credit reuter 3\n",
            "3, 3 ? combustion engineering inc said it expects first quarter earnings to be 20 to 25 pct below the year ago 13 6 mln dlrs mainly due to financing costs resulting from the january 1987 acquisition of ? corp the company said it has filed for an offering of four mln common shares and 150 mln dlrs of subordinated debentures due ? with proceeds to be used to refinance the short term bank debt incurred for the ? acquisition to finance other costs of the transaction and for general corporate purposes combustion said 3 500 000 shares will be sold in the u s and the remainder overseas combustion paid about 218 mln dlrs for ? a maker of computer based measurement and control systems used in pulp and paper mills the company said it expects to release first quarter results in the third week in april combustion said it expects further restructuring of core businesses particularly ? ? this year through staff reductions ? and the consolidation of facilities combustion said the restructuring at ? ? is expected to substantially reduce but not eliminate this year losses in the engineering and construction segment but it said improvement at ? ? is expected to be approximately offset by a number of factors including a somewhat lower level of earnings in the power generation segment than in 1986 financing costs of the ? acquisition costs associated with ? ? technology and operations and delays in waste to energy projects reuter 3\n",
            "3, 3 ? shr 23 cts vs 28 cts net 8 877 000 vs 9 530 000 revs 342 mln vs 278 9 mln avg shrs 39 4 mln vs 34 mln year shr 1 91 dlrs vs 1 62 dlrs net 70 5 mln vs 50 5 mln revs 1 3 billion vs 990 5 mln avg shrs 37 mln vs 31 3 mln note on dec one 1986 company acquired holt ? and ? and w b saunders and the ? press and their foreign subsidiaries by including these companies for the single month of december 1986 4th qtr earnings were raised by seven cts per shr and for the year by eight cts per shr reuter 3\n",
            "3, 3 ? oper shr profit 1 66 dlrs vs loss eight cts oper net profit 12 0 mln vs loss 572 000 revs 27 4 mln vs 4 311 000 year oper shr profit 1 36 dlrs vs loss 43 cts oper net profit 9 817 000 vs loss 2 433 000 revs 35 0 mln vs 13 8 mln avg shrs 7 224 000 vs 6 731 000 note 1985 net includes tax credits of 492 000 dlrs in quarter and 2 433 000 dlrs in year 1985 net both periods excludes 168 000 dlr loss from discontinued operations 1986 net both periods includes pretax gain 21 8 mln dlrs from sale of remaining interest in ? hills n m development reuter 3\n",
            "3, 3 ? bankers trust new york corp said it has placed its approximately 540 mln dlrs of medium and long term loans to brazil on non accrual status and that first quarter net income will be reduced by about seven mln dlrs as a result brazil suspended interest payments on its 68 billion dlrs of medium and long term debt on february 22 u s banking regulations do not require banks to stop accruing interest on loans until payments are 90 days overdue but bankers trust said it acted now because of the high potential of a continued suspension that would result in reaching the 90 day limit in the second quarter of 1987 assuming no cash payments at current interest rates are received for the rest of 1987 bankers trust estimated that full year net income would be reduced by about 30 mln dlrs bankers trust said it assumes that debt negotiations between brazil and its commercial bank lenders will lead to the resumption of interest payments the negotiations resume in new york on friday when central bank governor francisco gros is expected to ask banks for a 90 day ? of some 9 5 billion dlrs of term debt that ? on april 15 reuter 3\n",
            "5, 1 ? grain traders said they were still awaiting results of yesterday's u k intervention feed wheat tender for the home market the market sought to buy 340 000 tonnes more than double the remaining 150 000 tonnes available under the current tender however some of the tonnage included ? bids for supplies in the same stores since the tenders started last july ? 000 tonnes of british feed wheat have been sold back to the home market reuter 3\n",
            "4, 4 ? ? inc said it sold the plant inventory and certain other assets of some of its industrial chemical operations to plastic ? and technologies inc a privately held company headquartered in ? new jersey terms were not disclosed ? industrial chemical operations are based in fort worth texas and has annual sales of about 17 mln dlrs reuter 3\n",
            "1, 1 ? drought has resulted in a reduction in china's estimated wheat crop this year to 87 0 mln tonnes 2 0 mln below last year's harvest the u s agriculture department's officer in peking said in a field report the report dated march 25 said imports in the 1987 88 season are projected at 8 0 mln tonnes 1 0 mln tonnes above the the current season's estimate imports from the united states are estimated at 1 5 mln tonnes compared to only 150 000 tonnes estimated for the 1986 87 year it said after ? to major wheat producing areas and obtaining more information on the planted area the total planted area was estimated down 290 000 hectares due to the dry fall it said the report said to compensate for the below normal precipitation irrigation has increased as has the use of fertilizer while there are ? where irrigation is not possible most of the wheat crop has access to some water and therefore has emerged from dormancy and is doing well the report said it said scattered rain in many parts of china in the past 10 days has improved the situation but information on ? damage in anhui is ? reuter 3\n",
            "3, 3 ? period ended january 31 shr 22 cts vs 16 cts net 518 564 vs 374 198 revs 2 090 724 vs 1 614 079 reuter 3\n",
            "1, 1 ? australia is ? wheat export sales by not providing enough specific quality grades to meet buyer requirements the australian wheat board awb said many awb customers are becoming increasingly quality ? demanding strict adherence to contractual quality ? the board said in a ? to the royal commission into grain storage handling and transport many of the ? are more specific than the current categories used in australia it said the commission is trying to identify ways of saving costs and boosting efficiency of the grain handling system australia must rely on quality to retain its wheat market share because its competitors are supplying cheaper but lower quality grades the awb ? said it stressed the need to ? wheat categories at every stage from ? to shipping better industrial relations at grain terminals more ? transport systems across the states and extensive stock control were vital to improved marketing it said the ? also said australia's federal system ? the ? role of coordinating and managing the marketing of wheat the awb called for an end to physical and legislative constraints at state borders that prevent the efficient transport of grains to other states for shipment it is essential that wheat moves by the most economic ? to the ? efficient port ? of the state in which the wheat is grown or stored it said for example wheat grown in northern new south wales nsw might move more ? to brisbane in queensland than to sydney or ? in new south wales it said similarly southern nsw wheat might better be shipped to portland or ? in victoria legislation giving state rail authorities a monopoly over grain shipments was one notable ? it said the awb said the current approach of state based bulk handling authorities is not essential although it said it favoured the authorities maintaining at least their current level of control of storage and transport as long as quality was maintained an ? on port loading costs showed it cost between 26 500 and 34 700 u s dlrs to load a 50 000 tonne vessel at various australian ports compared with 21 200 dlrs at houston and 16 300 at port ? quebec for a 60 000 tonner reuter 3\n",
            "11, 11 ? leading domestic semiconductor makers will boost imports and cut production of key memory microchips from next month in line with government attempts to ward off u s trade sanctions company spokesmen said the moves might persuade the u s to call off the sanctions despite obstacles to full implementation of the plans analysts said the tariffs will affect about 300 mln dlrs worth of products and are in retaliation for japan's alleged failure to honour a semiconductor trade pact in announcing the sanctions last friday president reagan said japan had not fulfilled its promise to halt predatory pricing and open japan's market to foreign products but u s trade representative clayton yeutter said yesterday on u s television that the u s is willing to drop the tariffs if japan shows a clear indication that it will open its markets to u s goods the ministry of international trade and industry miti has urged producers to slash output of the chips by 11 pct in the second quarter following a call to reduce production by more than 20 pct the previous quarter miti also urged makers to boost chip imports analysts said the moves could encourage washington to cancel the tariffs ahead of next month's meeting between prime minister yasuhiro nakasone and president reagan the u s wants to be satisfied it has ? its ? and shown that it can and will do business said analyst ? edwards at jardine fleming securities ltd in tokyo but analysts cautioned that although japanese producers can cut output boosting imports the key to u s withdrawal of the sanctions is more difficult the u s does not have the low end consumer ? integrated ? that the japanese need for consumer products they're well supplied here said richard may senior analyst at barclays de zoete wedd ltd in tokyo the u s leads in production of medium and high end ? but japanese makers are keen to develop their own high end production ? the analysts said the japanese must be prepared to trade some losses on semiconductors in return for free access to other areas said edwards a spokesman for ? ltd lt hit t said the firm's reduced output of 256 ? dynamic ? access memory ? ? was unrelated to miti's efforts to ward off the trade sanctions decreased production was a natural result of the company increasing output of one mln bit ? he said company officials unveiled the following plans nec corp lt ? t japan's largest ? plans to slash production of ? ? semiconductors by 29 41 pct to six mln per month from a monthly average of 8 5 mln last quarter in the year beginning april 1 nec will boost chip imports which comprised some 20 pct of all nec chip consumption the year before ? ltd's lt hit t april output of ? ? will fall by 25 93 pct to four mln compared to 5 4 mln in march the company is trying to boost imports but has not set a specific target imports are currently very low toshiba corp lt ? t will reduce april ? ? production by 16 67 pct to just over four mln and is considering ways to boost imports a company official said toshiba has an agreement with ? inc ? n to sell the u s firm's chips in japan the firms are planning a joint venture production of memory chips in ? northern japan mitsubishi electric corp ? t will trim second quarter output by about 10 pct to between 5 5 mln to 5 6 mln chips compared to the first quarter plans call for increased imports but an official said boosting imports will be difficult as it depends on sales demand fujitsu ltd itsu t will cut production in accord with miti guidelines and boost imports from currently low levels ? electric industry co ltd ? t will reduce april production by 10 pct from ? 3 2 mln ? is studying ways to increase imports by 10 pct in the fiscal year beginning april 1 from the previous year's total of more than five billion yen a company official said reuter 3\n",
            "23, 3 ? ? ltd said it has closed on a 500 000 dlr long term mortgage loan in connection with its previous purchase of a ? fla plant replacing a short term borrowing the company said full production at the plant will start immediately reuter 3\n",
            "3, 3 ? ? financial corp said its board declared an initial dividend of five cts per share payable april 21 to holders of record march 31 reuter 3\n",
            "19, 19 ? the bank of england said it did not operate in the money market during the morning initially the bank forecast a ? shortage of some 300 mln stg for the market today overnight interbank sterling traded at the 11 1 4 1 8 pct level for most of the morning while period rates have eased on the strength of sterling dealers said at 1200 gmt sterling's trade weighted index was up 0 6 at 72 7 reuter 3\n",
            "3, 3 ? shr 54 cts vs 40 cts net 11 105 000 vs 8 310 000 sales 282 7 mln vs 290 3 mln avg shrs 20 599 000 vs 20 760 000 note per share results restated for may 1986 three for two stock split reuter 3\n"
          ]
        }
      ],
      "source": [
        "for idx in range(len(test_data[:20])):\n",
        "    enc_data = test_data[idx]\n",
        "    label = test_labels[idx]\n",
        "    pred = np.argmax(predictions[idx])\n",
        "    text = decode_review(enc_data)\n",
        "\n",
        "    print(f\"{label}, {pred}\", text)\n"
      ]
    },
    {
      "cell_type": "markdown",
      "metadata": {
        "id": "lC5v5OHJbxuQ"
      },
      "source": [
        "### A different way to handle the labels and the loss"
      ]
    },
    {
      "cell_type": "code",
      "execution_count": 32,
      "metadata": {
        "id": "kSg9ND5ubxuR"
      },
      "outputs": [],
      "source": [
        "y_train = np.array(train_labels)\n",
        "y_test = np.array(test_labels)"
      ]
    },
    {
      "cell_type": "code",
      "execution_count": 33,
      "metadata": {
        "id": "Espc6w0JbxuR"
      },
      "outputs": [],
      "source": [
        "model.compile(optimizer=\"rmsprop\",\n",
        "              loss=\"sparse_categorical_crossentropy\",\n",
        "              metrics=[\"accuracy\"])"
      ]
    },
    {
      "cell_type": "markdown",
      "metadata": {
        "id": "00mHYWCPbxuT"
      },
      "source": [
        "### The importance of having sufficiently large intermediate layers"
      ]
    },
    {
      "cell_type": "markdown",
      "metadata": {
        "id": "hUqguq8zbxuT"
      },
      "source": [
        "**A model with an information bottleneck**"
      ]
    },
    {
      "cell_type": "code",
      "execution_count": 34,
      "metadata": {
        "colab": {
          "base_uri": "https://localhost:8080/"
        },
        "id": "b9_wzH0xbxuT",
        "outputId": "eae2dde5-e6b5-49f5-fb4b-422a04e4ecdc"
      },
      "outputs": [
        {
          "output_type": "stream",
          "name": "stdout",
          "text": [
            "Epoch 1/20\n",
            "63/63 [==============================] - 2s 13ms/step - loss: 3.3398 - accuracy: 0.1997 - val_loss: 2.8755 - val_accuracy: 0.3120\n",
            "Epoch 2/20\n",
            "63/63 [==============================] - 0s 8ms/step - loss: 2.5439 - accuracy: 0.3031 - val_loss: 2.2764 - val_accuracy: 0.3240\n",
            "Epoch 3/20\n",
            "63/63 [==============================] - 0s 8ms/step - loss: 1.8764 - accuracy: 0.4260 - val_loss: 1.5801 - val_accuracy: 0.6650\n",
            "Epoch 4/20\n",
            "63/63 [==============================] - 1s 8ms/step - loss: 1.2817 - accuracy: 0.7134 - val_loss: 1.2799 - val_accuracy: 0.7250\n",
            "Epoch 5/20\n",
            "63/63 [==============================] - 0s 7ms/step - loss: 1.0656 - accuracy: 0.7533 - val_loss: 1.2281 - val_accuracy: 0.7150\n",
            "Epoch 6/20\n",
            "63/63 [==============================] - 0s 6ms/step - loss: 0.9587 - accuracy: 0.7699 - val_loss: 1.2059 - val_accuracy: 0.7270\n",
            "Epoch 7/20\n",
            "63/63 [==============================] - 0s 7ms/step - loss: 0.8841 - accuracy: 0.7828 - val_loss: 1.2043 - val_accuracy: 0.7290\n",
            "Epoch 8/20\n",
            "63/63 [==============================] - 0s 6ms/step - loss: 0.8207 - accuracy: 0.7927 - val_loss: 1.2016 - val_accuracy: 0.7270\n",
            "Epoch 9/20\n",
            "63/63 [==============================] - 0s 6ms/step - loss: 0.7684 - accuracy: 0.8033 - val_loss: 1.2199 - val_accuracy: 0.7270\n",
            "Epoch 10/20\n",
            "63/63 [==============================] - 0s 6ms/step - loss: 0.7250 - accuracy: 0.8126 - val_loss: 1.2180 - val_accuracy: 0.7290\n",
            "Epoch 11/20\n",
            "63/63 [==============================] - 0s 7ms/step - loss: 0.6853 - accuracy: 0.8232 - val_loss: 1.2399 - val_accuracy: 0.7350\n",
            "Epoch 12/20\n",
            "63/63 [==============================] - 0s 6ms/step - loss: 0.6483 - accuracy: 0.8300 - val_loss: 1.2850 - val_accuracy: 0.7330\n",
            "Epoch 13/20\n",
            "63/63 [==============================] - 0s 6ms/step - loss: 0.6170 - accuracy: 0.8384 - val_loss: 1.2931 - val_accuracy: 0.7200\n",
            "Epoch 14/20\n",
            "63/63 [==============================] - 0s 6ms/step - loss: 0.5879 - accuracy: 0.8454 - val_loss: 1.3205 - val_accuracy: 0.7250\n",
            "Epoch 15/20\n",
            "63/63 [==============================] - 0s 6ms/step - loss: 0.5633 - accuracy: 0.8505 - val_loss: 1.3297 - val_accuracy: 0.7310\n",
            "Epoch 16/20\n",
            "63/63 [==============================] - 0s 6ms/step - loss: 0.5399 - accuracy: 0.8534 - val_loss: 1.3547 - val_accuracy: 0.7280\n",
            "Epoch 17/20\n",
            "63/63 [==============================] - 0s 7ms/step - loss: 0.5180 - accuracy: 0.8567 - val_loss: 1.4041 - val_accuracy: 0.7250\n",
            "Epoch 18/20\n",
            "63/63 [==============================] - 0s 7ms/step - loss: 0.4973 - accuracy: 0.8616 - val_loss: 1.4270 - val_accuracy: 0.7230\n",
            "Epoch 19/20\n",
            "63/63 [==============================] - 0s 6ms/step - loss: 0.4814 - accuracy: 0.8633 - val_loss: 1.4814 - val_accuracy: 0.7190\n",
            "Epoch 20/20\n",
            "63/63 [==============================] - 0s 7ms/step - loss: 0.4630 - accuracy: 0.8681 - val_loss: 1.4966 - val_accuracy: 0.7220\n"
          ]
        },
        {
          "output_type": "execute_result",
          "data": {
            "text/plain": [
              "<keras.src.callbacks.History at 0x7e42eda10f10>"
            ]
          },
          "metadata": {},
          "execution_count": 34
        }
      ],
      "source": [
        "model = keras.Sequential([\n",
        "    layers.Dense(64, activation=\"relu\"),\n",
        "    layers.Dense(4, activation=\"relu\"),\n",
        "    layers.Dense(46, activation=\"softmax\")\n",
        "])\n",
        "model.compile(optimizer=\"rmsprop\",\n",
        "              loss=\"categorical_crossentropy\",\n",
        "              metrics=[\"accuracy\"])\n",
        "model.fit(partial_x_train,\n",
        "          partial_y_train,\n",
        "          epochs=20,\n",
        "          batch_size=128,\n",
        "          validation_data=(x_val, y_val))"
      ]
    },
    {
      "cell_type": "markdown",
      "metadata": {
        "id": "iA1ZMe0ibxuU"
      },
      "source": [
        "### Further experiments"
      ]
    }
  ],
  "metadata": {
    "colab": {
      "provenance": [],
      "toc_visible": true,
      "gpuType": "T4",
      "include_colab_link": true
    },
    "kernelspec": {
      "display_name": "Python 3",
      "name": "python3"
    },
    "language_info": {
      "codemirror_mode": {
        "name": "ipython",
        "version": 3
      },
      "file_extension": ".py",
      "mimetype": "text/x-python",
      "name": "python",
      "nbconvert_exporter": "python",
      "pygments_lexer": "ipython3",
      "version": "3.9.0"
    },
    "accelerator": "GPU"
  },
  "nbformat": 4,
  "nbformat_minor": 0
}